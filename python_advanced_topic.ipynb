{
  "nbformat": 4,
  "nbformat_minor": 0,
  "metadata": {
    "colab": {
      "provenance": [],
      "authorship_tag": "ABX9TyP/jofQs+kvpwygifLbYxYL",
      "include_colab_link": true
    },
    "kernelspec": {
      "name": "python3",
      "display_name": "Python 3"
    },
    "language_info": {
      "name": "python"
    }
  },
  "cells": [
    {
      "cell_type": "markdown",
      "metadata": {
        "id": "view-in-github",
        "colab_type": "text"
      },
      "source": [
        "<a href=\"https://colab.research.google.com/github/ttcielott/python_basic/blob/main/python_advanced_topic.ipynb\" target=\"_parent\"><img src=\"https://colab.research.google.com/assets/colab-badge.svg\" alt=\"Open In Colab\"/></a>"
      ]
    },
    {
      "cell_type": "markdown",
      "source": [
        "# Iterators & generators\n",
        "\n",
        "Iterables are objects that can return one of their elements at a time.\n",
        "> e.g. list\n",
        "\n",
        "Then, what is **Iterator**?\n",
        "> an object that represents a stream of data.\n",
        "> <br> list is not a stream of data, so not a iterator.\n",
        "\n",
        "How to make an **Iterator**?\n",
        "Use **Generator**!\n",
        "\n",
        "Why you need iterator?\n",
        "Here’s an excerpt from a [stack overflow](https://softwareengineering.stackexchange.com/questions/290231/when-should-i-use-a-generator-and-when-a-list-in-python/290235) page that addresses this:\n",
        "\n",
        "> Generators are a lazy way to build iterables. They are useful when the fully realized list would not fit in memory, or when the cost to calculate each list element is high and you want to do it as late as possible. But they can only be iterated over once."
      ],
      "metadata": {
        "id": "kZcOGEE_w4D6"
      }
    },
    {
      "cell_type": "code",
      "source": [
        "# iter generator\n",
        "a = iter('hello')\n",
        "next(a)"
      ],
      "metadata": {
        "colab": {
          "base_uri": "https://localhost:8080/",
          "height": 35
        },
        "id": "Wyo72z4LyjBq",
        "outputId": "7730fabe-1dba-4793-f223-6fce6da95eff"
      },
      "execution_count": null,
      "outputs": [
        {
          "output_type": "execute_result",
          "data": {
            "text/plain": [
              "'h'"
            ],
            "application/vnd.google.colaboratory.intrinsic+json": {
              "type": "string"
            }
          },
          "metadata": {},
          "execution_count": 10
        }
      ]
    },
    {
      "cell_type": "markdown",
      "source": [
        "**yield** allows the function to return value one at a time, and start where it left off each time it's called."
      ],
      "metadata": {
        "id": "t_rCDP7qy-_F"
      }
    },
    {
      "cell_type": "code",
      "source": [
        "def demo_func():\n",
        "  yield 4\n",
        "  yield 5\n",
        "  yield 10"
      ],
      "metadata": {
        "id": "B6L_cmX5zQmb"
      },
      "execution_count": null,
      "outputs": []
    },
    {
      "cell_type": "code",
      "source": [
        "print(next(demo_func()))\n",
        "print(next(demo_func()))\n",
        "print(next(demo_func()))"
      ],
      "metadata": {
        "colab": {
          "base_uri": "https://localhost:8080/"
        },
        "id": "jax-doT8zgoF",
        "outputId": "09610767-7e89-41f0-8842-136da43144bb"
      },
      "execution_count": 28,
      "outputs": [
        {
          "output_type": "stream",
          "name": "stdout",
          "text": [
            "4\n",
            "4\n",
            "4\n"
          ]
        }
      ]
    },
    {
      "cell_type": "markdown",
      "source": [
        "This doesn't work because it creates the new object every time and print for the first time."
      ],
      "metadata": {
        "id": "zHLQFAk92mnn"
      }
    },
    {
      "cell_type": "code",
      "source": [
        "# create object\n",
        "obj = demo_func()\n",
        "\n",
        "# print the value in yield one by one\n",
        "print(next(obj))\n",
        "print(next(obj))\n",
        "print(next(obj))"
      ],
      "metadata": {
        "colab": {
          "base_uri": "https://localhost:8080/"
        },
        "id": "rgF4V90o2fCF",
        "outputId": "8910c320-1165-435d-d2e0-a73d599a4fcf"
      },
      "execution_count": 30,
      "outputs": [
        {
          "output_type": "stream",
          "name": "stdout",
          "text": [
            "4\n",
            "5\n",
            "10\n"
          ]
        }
      ]
    },
    {
      "cell_type": "code",
      "execution_count": null,
      "metadata": {
        "id": "xEWMgrkiurTO"
      },
      "outputs": [],
      "source": [
        "# example of a generator funciton.\n",
        "def my_range(x):\n",
        "  i = 0\n",
        "  while i < x:\n",
        "    yield i\n",
        "    i += 1"
      ]
    },
    {
      "cell_type": "code",
      "source": [
        "obj = my_range(3)\n",
        "\n",
        "print(next(obj))\n",
        "print(next(obj))\n",
        "print(next(obj))"
      ],
      "metadata": {
        "colab": {
          "base_uri": "https://localhost:8080/"
        },
        "id": "8fZz0Q6Qu0I5",
        "outputId": "753707bf-1721-449c-f32e-218a981a8e96"
      },
      "execution_count": 35,
      "outputs": [
        {
          "output_type": "stream",
          "name": "stdout",
          "text": [
            "0\n",
            "1\n",
            "2\n"
          ]
        }
      ]
    },
    {
      "cell_type": "code",
      "source": [
        "# or you can loop over elements like this.\n",
        "for x in my_range(3):\n",
        "  print(x)"
      ],
      "metadata": {
        "colab": {
          "base_uri": "https://localhost:8080/"
        },
        "id": "Stwmq9C8wavr",
        "outputId": "5fb78e90-a010-4619-df68-d3a8c76c7972"
      },
      "execution_count": 36,
      "outputs": [
        {
          "output_type": "stream",
          "name": "stdout",
          "text": [
            "0\n",
            "1\n",
            "2\n"
          ]
        }
      ]
    },
    {
      "cell_type": "markdown",
      "source": [
        "Quiz: Implement my_enumerate\n",
        "Write your own generator function that works like the built-in function enumerate.\n",
        "\n",
        "Calling the function like this:\n",
        "\n",
        "\n",
        "\n",
        "```\n",
        "lessons = [\"Why Python Programming\", \"Data Types and Operators\", \"Control Flow\", \"Functions\", \"Scripting\"]\n",
        "\n",
        "for i, lesson in my_enumerate(lessons, 1):\n",
        "    print(\"Lesson {}: {}\".format(i, lesson))\n",
        "```\n",
        "\n",
        "\n",
        "should output:\n",
        "\n",
        "\n",
        "```\n",
        "Lesson 1: Why Python Programming\n",
        "Lesson 2: Data Types and Operators\n",
        "Lesson 3: Control Flow\n",
        "Lesson 4: Functions\n",
        "Lesson 5: Scripting\n",
        "```\n",
        "\n"
      ],
      "metadata": {
        "id": "kJmGsSq-Dxb0"
      }
    },
    {
      "cell_type": "code",
      "source": [
        "lessons = [\"Why Python Programming\", \"Data Types and Operators\", \"Control Flow\", \"Functions\", \"Scripting\"]\n",
        "\n",
        "def my_enumerate(iterable, start=0):\n",
        "    # Implement your generator function here\n",
        "    count = start\n",
        "    for ele in iterable:\n",
        "        yield count, ele\n",
        "        count += 1\n",
        "\n",
        "\n",
        "for i, lesson in my_enumerate(lessons, 1):\n",
        "    print(\"Lesson {}: {}\".format(i, lesson))"
      ],
      "metadata": {
        "colab": {
          "base_uri": "https://localhost:8080/"
        },
        "id": "Nyw4Y_svFJ_i",
        "outputId": "f4800297-9f9d-45a4-f88e-7fe8a13209f8"
      },
      "execution_count": 56,
      "outputs": [
        {
          "output_type": "stream",
          "name": "stdout",
          "text": [
            "Lesson 1: Why Python Programming\n",
            "Lesson 2: Data Types and Operators\n",
            "Lesson 3: Control Flow\n",
            "Lesson 4: Functions\n",
            "Lesson 5: Scripting\n"
          ]
        }
      ]
    },
    {
      "cell_type": "markdown",
      "source": [
        "**Quiz: Chunker**\n",
        "<br>\n",
        "If you have an iterable that is too large to fit in memory in full (e.g., when dealing with large files), being able to take and use chunks of it at a time can be very valuable.\n",
        "<br>\n",
        "Implement a generator function, chunker, that takes in an iterable and yields a chunk of a specified size at a time.\n",
        "<br>\n",
        "Calling the function like this:\n",
        "\n",
        "```\n",
        "for chunk in chunker(range(25), 4):\n",
        "    print(list(chunk))\n",
        "```\n",
        "\n",
        "\n"
      ],
      "metadata": {
        "id": "5cdINoAnF6ja"
      }
    },
    {
      "cell_type": "code",
      "source": [
        "# what I didn't know about range 1\n",
        "range(5)[3:5]"
      ],
      "metadata": {
        "colab": {
          "base_uri": "https://localhost:8080/"
        },
        "id": "6-2xVm1vFw-T",
        "outputId": "3d1a5347-71c6-4862-e7c3-2427bef9fe46"
      },
      "execution_count": 57,
      "outputs": [
        {
          "output_type": "execute_result",
          "data": {
            "text/plain": [
              "range(3, 5)"
            ]
          },
          "metadata": {},
          "execution_count": 57
        }
      ]
    },
    {
      "cell_type": "code",
      "source": [
        "# what I didn't know about range 2\n",
        "len(range(25))"
      ],
      "metadata": {
        "colab": {
          "base_uri": "https://localhost:8080/"
        },
        "id": "h8S-W2AXHNPC",
        "outputId": "ec1f4c93-d0f3-442c-85b5-d515b2e9c19f"
      },
      "execution_count": 60,
      "outputs": [
        {
          "output_type": "execute_result",
          "data": {
            "text/plain": [
              "25"
            ]
          },
          "metadata": {},
          "execution_count": 60
        }
      ]
    },
    {
      "cell_type": "code",
      "source": [
        "# what I didn't know about range 3\n",
        "[*range(0, 25, 4)]"
      ],
      "metadata": {
        "colab": {
          "base_uri": "https://localhost:8080/"
        },
        "id": "POyzF425GgCL",
        "outputId": "31f7f4da-02c9-4193-eebf-94a9d6864dae"
      },
      "execution_count": 63,
      "outputs": [
        {
          "output_type": "execute_result",
          "data": {
            "text/plain": [
              "[0, 4, 8, 12, 16, 20, 24]"
            ]
          },
          "metadata": {},
          "execution_count": 63
        }
      ]
    },
    {
      "cell_type": "code",
      "source": [
        "[*range(25)[24:29]]"
      ],
      "metadata": {
        "colab": {
          "base_uri": "https://localhost:8080/"
        },
        "id": "kMvnURW6HxSZ",
        "outputId": "7e976caf-d944-4649-d584-58a2661a50f8"
      },
      "execution_count": 64,
      "outputs": [
        {
          "output_type": "execute_result",
          "data": {
            "text/plain": [
              "[24]"
            ]
          },
          "metadata": {},
          "execution_count": 64
        }
      ]
    },
    {
      "cell_type": "code",
      "source": [
        "def chunker(iterable, size):\n",
        "  for start_num in range(0, len(iterable), size):\n",
        "    yield iterable[start_num: start_num + size]\n",
        " \n"
      ],
      "metadata": {
        "id": "7ZSz-ngIGpvE"
      },
      "execution_count": 71,
      "outputs": []
    },
    {
      "cell_type": "code",
      "source": [
        "for chunk in chunker(range(25), 4):\n",
        "  print(list(chunk))"
      ],
      "metadata": {
        "colab": {
          "base_uri": "https://localhost:8080/"
        },
        "id": "s5chV0U0IB3E",
        "outputId": "6a2d9896-6652-4dd3-c78c-98f8b5d472a5"
      },
      "execution_count": 72,
      "outputs": [
        {
          "output_type": "stream",
          "name": "stdout",
          "text": [
            "[0, 1, 2, 3]\n",
            "[4, 5, 6, 7]\n",
            "[8, 9, 10, 11]\n",
            "[12, 13, 14, 15]\n",
            "[16, 17, 18, 19]\n",
            "[20, 21, 22, 23]\n",
            "[24]\n"
          ]
        }
      ]
    },
    {
      "cell_type": "code",
      "source": [
        "for chunk in chunker(range(10), 4):\n",
        "  print(list(chunk))"
      ],
      "metadata": {
        "colab": {
          "base_uri": "https://localhost:8080/"
        },
        "id": "REWmtHmKILk3",
        "outputId": "5f7e3578-3160-4ffd-ff9c-190e1a13b1d7"
      },
      "execution_count": 73,
      "outputs": [
        {
          "output_type": "stream",
          "name": "stdout",
          "text": [
            "[0, 1, 2, 3]\n",
            "[4, 5, 6, 7]\n",
            "[8, 9]\n"
          ]
        }
      ]
    },
    {
      "cell_type": "markdown",
      "source": [
        "# Generator Expression\n",
        "\n",
        "similar to list expression\n",
        "\n",
        "Generator Expressions\n",
        "Here's a cool concept that combines generators and list comprehensions! You can actually create a generator in the same way you'd normally write a list comprehension, except with parentheses instead of square brackets. For example:"
      ],
      "metadata": {
        "id": "2vR_fi6yI4DF"
      }
    },
    {
      "cell_type": "code",
      "source": [
        "# list expression: produces a list of squares\n",
        "sq_list = [x**2 for x in range(10)]\n",
        "\n",
        "sq_list"
      ],
      "metadata": {
        "colab": {
          "base_uri": "https://localhost:8080/"
        },
        "id": "v3TF9UnqIh9d",
        "outputId": "166c6154-7fa4-4d7d-84ec-f49fed5e8a34"
      },
      "execution_count": 74,
      "outputs": [
        {
          "output_type": "execute_result",
          "data": {
            "text/plain": [
              "[0, 1, 4, 9, 16, 25, 36, 49, 64, 81]"
            ]
          },
          "metadata": {},
          "execution_count": 74
        }
      ]
    },
    {
      "cell_type": "code",
      "source": [
        "# generator expression: produces an iterator of squares\n",
        "sq_iterator = (x**2 for x in range(10))\n"
      ],
      "metadata": {
        "id": "rguj8HdBJFkJ"
      },
      "execution_count": 75,
      "outputs": []
    },
    {
      "cell_type": "code",
      "source": [
        "next(sq_iterator)"
      ],
      "metadata": {
        "colab": {
          "base_uri": "https://localhost:8080/"
        },
        "id": "r_vIYDgcJSK3",
        "outputId": "35da4b23-b981-4fe2-bde2-e243dbe04e02"
      },
      "execution_count": 76,
      "outputs": [
        {
          "output_type": "execute_result",
          "data": {
            "text/plain": [
              "0"
            ]
          },
          "metadata": {},
          "execution_count": 76
        }
      ]
    },
    {
      "cell_type": "code",
      "source": [
        "next(sq_iterator)"
      ],
      "metadata": {
        "colab": {
          "base_uri": "https://localhost:8080/"
        },
        "id": "BfKeAA6qJUV7",
        "outputId": "5a9cb091-1e05-4982-9542-4067d695864f"
      },
      "execution_count": 77,
      "outputs": [
        {
          "output_type": "execute_result",
          "data": {
            "text/plain": [
              "1"
            ]
          },
          "metadata": {},
          "execution_count": 77
        }
      ]
    },
    {
      "cell_type": "code",
      "source": [
        "for sq in sq_iterator:\n",
        "  print(sq)"
      ],
      "metadata": {
        "colab": {
          "base_uri": "https://localhost:8080/"
        },
        "id": "2kzDNmC7JVVt",
        "outputId": "ede721f4-345d-4a96-89b3-1bc6584fbbf8"
      },
      "execution_count": 78,
      "outputs": [
        {
          "output_type": "stream",
          "name": "stdout",
          "text": [
            "4\n",
            "9\n",
            "16\n",
            "25\n",
            "36\n",
            "49\n",
            "64\n",
            "81\n"
          ]
        }
      ]
    }
  ]
}