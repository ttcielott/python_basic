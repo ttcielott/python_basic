{
  "nbformat": 4,
  "nbformat_minor": 0,
  "metadata": {
    "colab": {
      "provenance": [],
      "toc_visible": true,
      "authorship_tag": "ABX9TyOcq/41NPkg+aJ7cQgXL5EO",
      "include_colab_link": true
    },
    "kernelspec": {
      "name": "python3",
      "display_name": "Python 3"
    },
    "language_info": {
      "name": "python"
    }
  },
  "cells": [
    {
      "cell_type": "markdown",
      "metadata": {
        "id": "view-in-github",
        "colab_type": "text"
      },
      "source": [
        "<a href=\"https://colab.research.google.com/github/ttcielott/python_basic/blob/main/python_control_flow.ipynb\" target=\"_parent\"><img src=\"https://colab.research.google.com/assets/colab-badge.svg\" alt=\"Open In Colab\"/></a>"
      ]
    },
    {
      "cell_type": "markdown",
      "source": [
        "# Control Flow\n",
        "\n",
        "**What is control flow?**\n",
        "The sequence in which your code is run.\n",
        "\n",
        "* Conditional Statements\n",
        "* Boolean Expressions\n",
        "* For and While Loops\n",
        "* Break and Continue\n",
        "* Zip and Enumerate\n",
        "* List Comprehension"
      ],
      "metadata": {
        "id": "GyXNrE374qis"
      }
    },
    {
      "cell_type": "markdown",
      "source": [
        "Remember that $=$ is an assignment operator while $==$ is a comparison operator."
      ],
      "metadata": {
        "id": "e0aFSoz-7OeB"
      }
    },
    {
      "cell_type": "code",
      "execution_count": null,
      "metadata": {
        "id": "yNJzwJBj4kXO",
        "colab": {
          "base_uri": "https://localhost:8080/"
        },
        "outputId": "e286bc91-829c-4e0a-91fd-bb1e8c40a383"
      },
      "outputs": [
        {
          "output_type": "stream",
          "name": "stdout",
          "text": [
            "Why don't you take an unbrella?\n"
          ]
        }
      ],
      "source": [
        "weather = 'cloudy'\n",
        "\n",
        "if weather == 'rainy':\n",
        "  print('Take an umbrella.')\n",
        "elif weather == 'cloudy':\n",
        "  print('Why don\\'t you take an unbrella?')\n",
        "else:\n",
        "  print('Have a lovely day.')"
      ]
    },
    {
      "cell_type": "markdown",
      "source": [
        "**Indentation**\n",
        "\n",
        "In Python, we use indentation to enclose blocks of code.\n",
        "For example, *if statements* use indentation to tell Python what code is inside and outside of different clauses.\n",
        "\n",
        "**Spaces or Tabs**\n",
        "Spaces are the preferred indentation method.\n",
        "\n",
        "Tabs should be used solely to remain consistent with code that is already indented with tabs.\n",
        "\n",
        "Python disallows mixing tabs and spaces for indentation.\n",
        "\n",
        "\n"
      ],
      "metadata": {
        "id": "__Uvl7OA8f57"
      }
    },
    {
      "cell_type": "markdown",
      "source": [
        "# Boolean Expression\n",
        "*if statement* must be a boolean expression that evaluates to either True or False."
      ],
      "metadata": {
        "id": "_Hrtp1YkYErL"
      }
    },
    {
      "cell_type": "code",
      "source": [
        "weight = 53\n",
        "height = 1.58\n",
        "if 18.5 <= weight / height**2 < 25:\n",
        "    print(\"BMI is considered 'normal'\")"
      ],
      "metadata": {
        "id": "WbRuev2q8VZc",
        "colab": {
          "base_uri": "https://localhost:8080/"
        },
        "outputId": "3c939d02-514e-4fcf-c4aa-3af08a8e0373"
      },
      "execution_count": null,
      "outputs": [
        {
          "output_type": "stream",
          "name": "stdout",
          "text": [
            "BMI is considered 'normal'\n"
          ]
        }
      ]
    },
    {
      "cell_type": "markdown",
      "source": [
        "## Good & Bad Boolean Examples\n",
        "\n",
        "* Don't compare a boolean variable with ==True or ==False\n",
        "The comparision isn't necessary, since the boolean variable itself is a boolean expression. \n",
        "```\n",
        "# bad example\n",
        "is_cold = True\n",
        "if is_cold == True:\n",
        "   print('The weather is cold!')\n",
        "```\n",
        "```\n",
        "# good example\n",
        "is_cold = True\n",
        "if is_cold:\n",
        "   print('The weather is cold!')\n",
        "```\n",
        "If you want to check whether a boolean is False, use the not operator. \n",
        "```\n",
        "# good example\n",
        "is_cold = True\n",
        "if not is_cold:\n",
        "   print('The weather is NOT cold!')\n",
        "```\n",
        "\n",
        "* Don't use True or False as condition. \n",
        "```\n",
        "# bad example\n",
        "if True:\n",
        "   print('This indented code will always get run.')\n",
        "```\n",
        "* Don't use any condition that you know will always evaluate to True.\n",
        "\n",
        "* Be careful writing expressions that use logical operators\n",
        "```\n",
        "# bad example\n",
        "if weather == 'snow' or 'rain':  # 'rain' part is not boolean, but string\n",
        "   print('Wear boots!)\n",
        "```\n",
        "\n",
        "\n",
        "\n",
        "\n"
      ],
      "metadata": {
        "id": "lbhRzAlDY11B"
      }
    },
    {
      "cell_type": "markdown",
      "source": [
        "## Truth Value Testing\n",
        "\n",
        "If we use a non-boolean object as a condition in an if statement in place of boolean expression, Python will check for its truth value and use that to decide whether or not to run the indented code."
      ],
      "metadata": {
        "id": "saKGzrjgiw30"
      }
    },
    {
      "cell_type": "code",
      "source": [
        "# look how if statement evaluate a string\n",
        "if 'hello':\n",
        "  print('The string, hello was evaluated to True.')"
      ],
      "metadata": {
        "colab": {
          "base_uri": "https://localhost:8080/"
        },
        "id": "vkPmHE0TXy8N",
        "outputId": "bee40571-b2dd-49f6-f2cb-e629ec6ad1fa"
      },
      "execution_count": null,
      "outputs": [
        {
          "output_type": "stream",
          "name": "stdout",
          "text": [
            "the string, hello was evaluated to True.\n"
          ]
        }
      ]
    },
    {
      "cell_type": "code",
      "source": [
        "# however, empty string is evaluated to False\n",
        "if '':\n",
        "  print('The string, hello was evaluated to True.')"
      ],
      "metadata": {
        "id": "fOdAEC4ijiIP"
      },
      "execution_count": null,
      "outputs": []
    },
    {
      "cell_type": "code",
      "source": [
        "if ['a']:\n",
        "  print('The string, hello was evaluated to True.')"
      ],
      "metadata": {
        "colab": {
          "base_uri": "https://localhost:8080/"
        },
        "id": "yuVYcRQ_jsAW",
        "outputId": "401bf37e-fb1a-43f8-f2ea-23cea32b32bc"
      },
      "execution_count": null,
      "outputs": [
        {
          "output_type": "stream",
          "name": "stdout",
          "text": [
            "The string, hello was evaluated to True.\n"
          ]
        }
      ]
    },
    {
      "cell_type": "code",
      "source": [
        "if 100:\n",
        "  print('The string, hello was evaluated to True.')"
      ],
      "metadata": {
        "colab": {
          "base_uri": "https://localhost:8080/"
        },
        "id": "QLHiqiunj8zV",
        "outputId": "ebc0dceb-619c-4385-e1bc-65034d1fd163"
      },
      "execution_count": null,
      "outputs": [
        {
          "output_type": "stream",
          "name": "stdout",
          "text": [
            "The string, hello was evaluated to True.\n"
          ]
        }
      ]
    },
    {
      "cell_type": "markdown",
      "source": [
        "**The Built-in Objects that are Considered False in Python**"
      ],
      "metadata": {
        "id": "XmsAJCkakGPT"
      }
    },
    {
      "cell_type": "code",
      "source": [
        "# constants defined to be False: None, False\n",
        "if None:\n",
        "  print('See if it\\'s True.')"
      ],
      "metadata": {
        "id": "TsKa6i60kA1C"
      },
      "execution_count": null,
      "outputs": []
    },
    {
      "cell_type": "code",
      "source": [
        "if False:\n",
        "  print('See if it\\'s True.')"
      ],
      "metadata": {
        "id": "hscZWCaXkwnR"
      },
      "execution_count": null,
      "outputs": []
    },
    {
      "cell_type": "code",
      "source": [
        "# zero of any numeric type\n",
        "if 0:\n",
        "  print('See if it\\'s True.')\n",
        "if 0.0:\n",
        "  print('See if it\\'s True.')\n",
        "if 0j:\n",
        "  print('See if it\\'s True.')\n",
        "# if decimal(0):\n",
        "  # print('See if it\\'s True.')\n",
        "#if fraction(0, 1):\n",
        "  # print('See if it\\'s True.')"
      ],
      "metadata": {
        "id": "sPd2yq7sk8pW"
      },
      "execution_count": null,
      "outputs": []
    },
    {
      "cell_type": "code",
      "source": [
        "# empty sequences and collections\n",
        "if \"\":\n",
        "  print('See if it\\'s True.')\n",
        "if ():\n",
        "  print('See if it\\'s True.')\n",
        "if []:\n",
        "  print('See if it\\'s True.')\n",
        "if {}:\n",
        "  print('See if it\\'s True.')\n",
        "if range(0):\n",
        "  print('See if it\\'s True.')"
      ],
      "metadata": {
        "id": "71APRuXsla4b"
      },
      "execution_count": null,
      "outputs": []
    },
    {
      "cell_type": "code",
      "source": [
        "list(range(0))"
      ],
      "metadata": {
        "id": "ZL2SSExnmAEk",
        "outputId": "7d43c8e7-7807-4232-e05e-6ebc46cc92a3",
        "colab": {
          "base_uri": "https://localhost:8080/"
        }
      },
      "execution_count": null,
      "outputs": [
        {
          "output_type": "execute_result",
          "data": {
            "text/plain": [
              "[]"
            ]
          },
          "metadata": {},
          "execution_count": 18
        }
      ]
    },
    {
      "cell_type": "markdown",
      "source": [
        "## Practice of Range"
      ],
      "metadata": {
        "id": "2F_wseEUGJig"
      }
    },
    {
      "cell_type": "code",
      "source": [
        "# check the output of this code\n",
        "list(range(0, -5))"
      ],
      "metadata": {
        "id": "1XMcsoBomBNh",
        "colab": {
          "base_uri": "https://localhost:8080/"
        },
        "outputId": "4e3af3ae-1c53-42dc-b1e9-4ec6e9e0af00"
      },
      "execution_count": null,
      "outputs": [
        {
          "output_type": "execute_result",
          "data": {
            "text/plain": [
              "[]"
            ]
          },
          "metadata": {},
          "execution_count": 1
        }
      ]
    },
    {
      "cell_type": "markdown",
      "source": [
        "# Counter Dictionary"
      ],
      "metadata": {
        "id": "5dP7OqIxHVNW"
      }
    },
    {
      "cell_type": "code",
      "source": [
        "words = ['good', 'extraordinary', 'transcendent', 'era-defining', 'terrific', 'good', 'transcendent']\n",
        "\n",
        "counter = {}\n",
        "# count the words in the list using dictionary\n",
        "for word in words:\n",
        "  if word not in counter:\n",
        "    counter[word] = 1\n",
        "  else:\n",
        "    counter[word] += 1\n",
        "counter"
      ],
      "metadata": {
        "colab": {
          "base_uri": "https://localhost:8080/"
        },
        "id": "W2s2edW0GQnE",
        "outputId": "00ab2576-5a8b-4bfe-ddf5-e6943d3596ae"
      },
      "execution_count": null,
      "outputs": [
        {
          "output_type": "execute_result",
          "data": {
            "text/plain": [
              "{'good': 2,\n",
              " 'extraordinary': 1,\n",
              " 'transcendent': 2,\n",
              " 'era-defining': 1,\n",
              " 'terrific': 1}"
            ]
          },
          "metadata": {},
          "execution_count": 32
        }
      ]
    },
    {
      "cell_type": "code",
      "source": [
        "# how to get the maximum value of dictionary\n",
        "# not max(counter), which will return the largest key (string)\n",
        "max(counter.values())"
      ],
      "metadata": {
        "colab": {
          "base_uri": "https://localhost:8080/"
        },
        "id": "Ki_9ZHcT_R4M",
        "outputId": "b5e8a90c-c880-4d95-a4e1-61451062ef9c"
      },
      "execution_count": null,
      "outputs": [
        {
          "output_type": "execute_result",
          "data": {
            "text/plain": [
              "2"
            ]
          },
          "metadata": {},
          "execution_count": 33
        }
      ]
    },
    {
      "cell_type": "code",
      "source": [
        "# max(counter), which will return the largest key (string)\n",
        "max(counter)"
      ],
      "metadata": {
        "colab": {
          "base_uri": "https://localhost:8080/",
          "height": 35
        },
        "id": "AVwaF1Fl_jPy",
        "outputId": "1947ff60-665e-4560-8ae7-e2e28ce59add"
      },
      "execution_count": null,
      "outputs": [
        {
          "output_type": "execute_result",
          "data": {
            "text/plain": [
              "'transcendent'"
            ],
            "application/vnd.google.colaboratory.intrinsic+json": {
              "type": "string"
            }
          },
          "metadata": {},
          "execution_count": 34
        }
      ]
    },
    {
      "cell_type": "code",
      "source": [
        "counter.get('great',0)"
      ],
      "metadata": {
        "colab": {
          "base_uri": "https://localhost:8080/"
        },
        "id": "vLv5MT_vIrYk",
        "outputId": "ef9d5a53-b822-4203-ba12-7858eaa96e06"
      },
      "execution_count": null,
      "outputs": [
        {
          "output_type": "execute_result",
          "data": {
            "text/plain": [
              "0"
            ]
          },
          "metadata": {},
          "execution_count": 6
        }
      ]
    },
    {
      "cell_type": "code",
      "source": [
        "# shall we make it simpler?\n",
        "words = ['good', 'extraordinary', 'transcendent', 'era-defining', 'terrific', 'good', 'transcendent']\n",
        "\n",
        "counter = {}\n",
        "# count the words in the list using get method\n",
        "for word in words:\n",
        "  # if there is no word, 0 + 1\n",
        "  # if there is a word among keys, current number + 1\n",
        "  counter[word] = counter.get(word, 0) + 1"
      ],
      "metadata": {
        "id": "AFCbpNtsICpt"
      },
      "execution_count": null,
      "outputs": []
    },
    {
      "cell_type": "markdown",
      "source": [
        "## Iterate through Dictionary"
      ],
      "metadata": {
        "id": "qK9XD9L6Ji75"
      }
    },
    {
      "cell_type": "code",
      "source": [
        "for e in counter:\n",
        "  print(e)"
      ],
      "metadata": {
        "colab": {
          "base_uri": "https://localhost:8080/"
        },
        "id": "gQy_ieaPJns_",
        "outputId": "9a7a9f74-e13a-44e5-afd0-c1658515fb43"
      },
      "execution_count": null,
      "outputs": [
        {
          "output_type": "stream",
          "name": "stdout",
          "text": [
            "good\n",
            "extraordinary\n",
            "transcendent\n",
            "era-defining\n",
            "terrific\n"
          ]
        }
      ]
    },
    {
      "cell_type": "markdown",
      "source": [
        "It only gives you access to keys. What if you want to print values as well?"
      ],
      "metadata": {
        "id": "I2WAVhGNJrqo"
      }
    },
    {
      "cell_type": "code",
      "source": [
        "# add iterable.items()\n",
        "for key, item in counter.items():\n",
        "  print(key, item)"
      ],
      "metadata": {
        "colab": {
          "base_uri": "https://localhost:8080/"
        },
        "id": "YZDyxNAYJvN9",
        "outputId": "b966339f-d256-45c8-fabd-5cb75fb08919"
      },
      "execution_count": null,
      "outputs": [
        {
          "output_type": "stream",
          "name": "stdout",
          "text": [
            "good 2\n",
            "extraordinary 1\n",
            "transcendent 2\n",
            "era-defining 1\n",
            "terrific 1\n"
          ]
        }
      ]
    },
    {
      "cell_type": "code",
      "source": [
        "fruit_count, not_fruit_count = 0, 0\n",
        "basket_items = {'apples': 4, 'oranges': 19, 'kites': 3, 'sandwiches': 8}\n",
        "fruits = ['apples', 'oranges', 'pears', 'peaches', 'grapes', 'bananas']\n",
        "\n",
        "# count the number of fruits or not fruits\n",
        "for key, count in basket_items.items():\n",
        "  if key in fruits:\n",
        "    fruit_count += count\n",
        "  else:\n",
        "    not_fruit_count += count\n",
        "\n",
        "print('The Number of Fruits is {}. The Number of Non-Fruit is {}.'.format(fruit_count, not_fruit_count))"
      ],
      "metadata": {
        "colab": {
          "base_uri": "https://localhost:8080/"
        },
        "id": "fCnim4CsJ3VW",
        "outputId": "dc2dab05-c4ed-42eb-add8-12a1b9368ff5"
      },
      "execution_count": null,
      "outputs": [
        {
          "output_type": "stream",
          "name": "stdout",
          "text": [
            "The Number of Fruits is 23. The Number of Non-Fruit is 11.\n"
          ]
        }
      ]
    },
    {
      "cell_type": "markdown",
      "source": [
        "# [Must Review] for loop, while with break and continue\n",
        "\n",
        "* break: terminates a loop\n",
        "* continue: skips one iteration of a loop\n",
        "\n",
        "## Quiz:\n",
        "\n",
        "Write a loop with a break statement to create a string, news_ticker, that is exactly 140 characters long. You should create the news ticker by adding headlines from the headlines list, inserting a space in between each headline. If necessary, truncate the last headline in the middle so that news_ticker is exactly 140 characters long.\n",
        "\n",
        "Remember that break works in both for and while loops. Use whichever loop seems most appropriate. Consider adding print statements to your code to help you resolve bugs."
      ],
      "metadata": {
        "id": "ptQ8A_SivuG4"
      }
    },
    {
      "cell_type": "code",
      "source": [
        "headlines = [\"Local Bear Eaten by Man\",\n",
        "             \"Legislature Announces New Laws\",\n",
        "             \"Peasant Discovers Violence Inherent in System\",\n",
        "             \"Cat Rescues Fireman Stuck in Tree\",\n",
        "             \"Brave Knight Runs Away\",\n",
        "             \"Papperbok Review: Totally Triffic\"]\n",
        "\n",
        "news_ticker = \"\"\n",
        "\n",
        "for headline in headlines:\n",
        "  news_ticker += headline + ' '\n",
        "  if len(news_ticker) >= 140:\n",
        "    news_ticker = news_ticker[:140]\n",
        "    break # here, we want to stop the iteration\n",
        "len(news_ticker)"
      ],
      "metadata": {
        "id": "pmzE7mc8zRS5",
        "colab": {
          "base_uri": "https://localhost:8080/"
        },
        "outputId": "c9c92a00-930f-4c9a-e974-694f288ff01e"
      },
      "execution_count": null,
      "outputs": [
        {
          "output_type": "execute_result",
          "data": {
            "text/plain": [
              "140"
            ]
          },
          "metadata": {},
          "execution_count": 6
        }
      ]
    },
    {
      "cell_type": "markdown",
      "source": [
        "## [Must Review] Coding Quiz: Check for Prime Numbers\n",
        "<br>\n",
        "Prime numbers are whole numbers that have only two factors: 1 and the number itself. The first few prime numbers are 2, 3, 5, 7.\n",
        "\n",
        "For instance, 6 has four factors: 1, 2, 3, 6.<br>\n",
        "<br> 1 X 6 = 6\n",
        "<br> 2 X 3 = 6\n",
        "<Br> So we know 6 is not a prime number.\n",
        "<br>\n",
        "In the following coding environment, write code to check if the numbers provided in the list check_prime are prime numbers.\n",
        "<br>\n",
        "<br>\n",
        "If the numbers are prime, the code should print \"[number] is a prime number.\"\n",
        "If the number is NOT a prime number, it should print \"[number] is not a prime number\", and a factor of that number, other than 1 and the number itself: \"[factor] is a factor of [number]\".\n"
      ],
      "metadata": {
        "id": "TrMYqnaHTsF_"
      }
    },
    {
      "cell_type": "code",
      "source": [
        "## Your code should check if each number in the list is a prime number\n",
        "check_prime = [26, 39, 51, 53, 57, 79, 85]\n",
        "\n",
        "## write your code here\n",
        "## HINT: You can use the modulo operator to find a factor\n",
        "for num in check_prime:\n",
        "  for factor in range(2, num):\n",
        "    if num % factor == 0:\n",
        "      print('{} is NOT a prime number, because {} is a factor of {}\\n'.format(num, factor, num))\n",
        "      break\n",
        "    else:\n",
        "      if num == factor + 1:\n",
        "        print('{} is a prime number \\n'.format(num))\n"
      ],
      "metadata": {
        "colab": {
          "base_uri": "https://localhost:8080/"
        },
        "id": "AySfE7Zs2Y9z",
        "outputId": "5b55631b-fc67-424a-9ec3-ae784148f438"
      },
      "execution_count": null,
      "outputs": [
        {
          "output_type": "stream",
          "name": "stdout",
          "text": [
            "26 is NOT a prime number, because 2 is a factor of 26\n",
            "\n",
            "39 is NOT a prime number, because 3 is a factor of 39\n",
            "\n",
            "51 is NOT a prime number, because 3 is a factor of 51\n",
            "\n",
            "53 is a prime number \n",
            "\n",
            "57 is NOT a prime number, because 3 is a factor of 57\n",
            "\n",
            "79 is a prime number \n",
            "\n",
            "85 is NOT a prime number, because 5 is a factor of 85\n",
            "\n"
          ]
        }
      ]
    },
    {
      "cell_type": "markdown",
      "source": [
        "# Zip & Enumerate\n",
        "\n",
        "Zip returns an iterator that combines multiple iterables into one sequence of tuple. Each tuple contains the elements in that position from all the iterables."
      ],
      "metadata": {
        "id": "OnpDEo3GYDa5"
      }
    },
    {
      "cell_type": "code",
      "source": [
        "items = ['bananas', 'mattresses', 'dog kennels', 'machine', 'cheeses']\n",
        "weights = [15, 34, 42, 120, 5]\n",
        "\n",
        "# want to combine two lists as a pair for each\n",
        "print(list(zip(items, weights)))"
      ],
      "metadata": {
        "colab": {
          "base_uri": "https://localhost:8080/"
        },
        "id": "XIalKjbKVlgz",
        "outputId": "7ec9f776-3281-48e3-9f2e-dd05ac417afb"
      },
      "execution_count": null,
      "outputs": [
        {
          "output_type": "stream",
          "name": "stdout",
          "text": [
            "[('bananas', 15), ('mattresses', 34), ('dog kennels', 42), ('machine', 120), ('cheeses', 5)]\n"
          ]
        }
      ]
    },
    {
      "cell_type": "code",
      "source": [
        "# or iterate through it with for loop if you want to print values\n",
        "for cargo in zip(items, weights):\n",
        "  print(cargo[0], cargo[1])"
      ],
      "metadata": {
        "colab": {
          "base_uri": "https://localhost:8080/"
        },
        "id": "B98IT81kYY8I",
        "outputId": "f492ab64-5191-425e-945f-9df0b6d03adc"
      },
      "execution_count": null,
      "outputs": [
        {
          "output_type": "stream",
          "name": "stdout",
          "text": [
            "bananas 15\n",
            "mattresses 34\n",
            "dog kennels 42\n",
            "machine 120\n",
            "cheeses 5\n"
          ]
        }
      ]
    },
    {
      "cell_type": "code",
      "source": [
        "# or you can unpack each tuples with for loop like this.\n",
        "for item, weight in zip(items, weights):\n",
        "  print(item, weight)"
      ],
      "metadata": {
        "colab": {
          "base_uri": "https://localhost:8080/"
        },
        "id": "jh30K9D5ZJ6B",
        "outputId": "f38e2735-6f0f-4b87-cc2c-6b86a7e2acaf"
      },
      "execution_count": null,
      "outputs": [
        {
          "output_type": "stream",
          "name": "stdout",
          "text": [
            "bananas 15\n",
            "mattresses 34\n",
            "dog kennels 42\n",
            "machine 120\n",
            "cheeses 5\n"
          ]
        }
      ]
    },
    {
      "cell_type": "code",
      "source": [
        "# zip\n",
        "manifest = zip(items, weights)\n",
        "\n",
        "# unzip it using asterisk\n",
        "items, weights = zip(*manifest)\n",
        "print(items)\n",
        "print(weights)"
      ],
      "metadata": {
        "colab": {
          "base_uri": "https://localhost:8080/"
        },
        "id": "yxVgq-SVZR4H",
        "outputId": "c78ec481-cc3a-449e-f000-a06d6e498d49"
      },
      "execution_count": null,
      "outputs": [
        {
          "output_type": "stream",
          "name": "stdout",
          "text": [
            "('bananas', 'mattresses', 'dog kennels', 'machine', 'cheeses')\n",
            "(15, 34, 42, 120, 5)\n"
          ]
        }
      ]
    },
    {
      "cell_type": "markdown",
      "source": [
        "**Quiz: Transpose with Zip**\n",
        "<br>\n",
        "Use zip to transpose data from a 4-by-3 matrix to a 3-by-4 matrix. There's actually a cool trick for this! Feel free to look at the solutions if you can't figure it out."
      ],
      "metadata": {
        "id": "0o30uPk_gu6b"
      }
    },
    {
      "cell_type": "code",
      "source": [
        "data = ((0, 1, 2), (3, 4, 5), (6, 7, 8), (9, 10, 11))\n",
        "\n",
        "data_transpose = tuple(zip(*data))# replace with your code\n",
        "print(data_transpose)"
      ],
      "metadata": {
        "colab": {
          "base_uri": "https://localhost:8080/"
        },
        "id": "zAtLYO9cg2xb",
        "outputId": "07711291-4dd7-47c8-c854-e55feec493f0"
      },
      "execution_count": null,
      "outputs": [
        {
          "output_type": "stream",
          "name": "stdout",
          "text": [
            "((0, 3, 6, 9), (1, 4, 7, 10), (2, 5, 8, 11))\n"
          ]
        }
      ]
    },
    {
      "cell_type": "code",
      "source": [
        "items = list(items)\n",
        "weights = list(weights)\n",
        "\n",
        "# iterate through the list of tuples containing index and value of each item in the list\n",
        "for i, item in zip(range(len(items)), items):\n",
        "  print(i, item)\n",
        "\n",
        "# or simply use enumerate function\n",
        "for i, item in enumerate(items):\n",
        "  print(i, item)"
      ],
      "metadata": {
        "colab": {
          "base_uri": "https://localhost:8080/"
        },
        "id": "-qFjXcyBZtpZ",
        "outputId": "d11993ec-d6ca-4ced-d633-36d6eb7fb0b1"
      },
      "execution_count": null,
      "outputs": [
        {
          "output_type": "stream",
          "name": "stdout",
          "text": [
            "0 bananas\n",
            "1 mattresses\n",
            "2 dog kennels\n",
            "3 machine\n",
            "4 cheeses\n",
            "0 bananas\n",
            "1 mattresses\n",
            "2 dog kennels\n",
            "3 machine\n",
            "4 cheeses\n"
          ]
        }
      ]
    },
    {
      "cell_type": "markdown",
      "source": [
        "# List Comprehension with if,else statement"
      ],
      "metadata": {
        "id": "tRI9nS4j0OVZ"
      }
    },
    {
      "cell_type": "code",
      "source": [
        "# add an conditional\n",
        "squares = [x**2 for x in range(9) if x %2 == 0]\n",
        "squares"
      ],
      "metadata": {
        "colab": {
          "base_uri": "https://localhost:8080/"
        },
        "id": "QgUKUww4bgCh",
        "outputId": "0fca7e51-6068-4bb4-9ee3-49a77c3f3a89"
      },
      "execution_count": null,
      "outputs": [
        {
          "output_type": "execute_result",
          "data": {
            "text/plain": [
              "[0, 4, 16, 36, 64]"
            ]
          },
          "metadata": {},
          "execution_count": 27
        }
      ]
    },
    {
      "cell_type": "markdown",
      "source": [
        "However, when adding an else, it goes differently.\n",
        "You should put conditionals before **for x in range(9)**"
      ],
      "metadata": {
        "id": "xyTOyQHY0vsY"
      }
    },
    {
      "cell_type": "code",
      "source": [
        "squares = [x**2 if x % 2 == 0 else x + 3 for x in range(9)]\n",
        "squares"
      ],
      "metadata": {
        "colab": {
          "base_uri": "https://localhost:8080/"
        },
        "id": "4XQ5hzOe0n36",
        "outputId": "50b30708-9714-4fd8-dd8f-4cf09f42cfd6"
      },
      "execution_count": null,
      "outputs": [
        {
          "output_type": "execute_result",
          "data": {
            "text/plain": [
              "[0, 4, 4, 6, 16, 8, 36, 10, 64]"
            ]
          },
          "metadata": {},
          "execution_count": 30
        }
      ]
    },
    {
      "cell_type": "code",
      "source": [],
      "metadata": {
        "id": "WeD-4Kbb37Rp"
      },
      "execution_count": null,
      "outputs": []
    }
  ]
}