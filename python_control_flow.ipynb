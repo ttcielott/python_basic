{
  "nbformat": 4,
  "nbformat_minor": 0,
  "metadata": {
    "colab": {
      "provenance": [],
      "toc_visible": true,
      "authorship_tag": "ABX9TyOyEmtk7CLjhscY5Rgwawks",
      "include_colab_link": true
    },
    "kernelspec": {
      "name": "python3",
      "display_name": "Python 3"
    },
    "language_info": {
      "name": "python"
    }
  },
  "cells": [
    {
      "cell_type": "markdown",
      "metadata": {
        "id": "view-in-github",
        "colab_type": "text"
      },
      "source": [
        "<a href=\"https://colab.research.google.com/github/ttcielott/python_basic/blob/main/python_control_flow.ipynb\" target=\"_parent\"><img src=\"https://colab.research.google.com/assets/colab-badge.svg\" alt=\"Open In Colab\"/></a>"
      ]
    },
    {
      "cell_type": "markdown",
      "source": [
        "# Control Flow\n",
        "\n",
        "**What is control flow?**\n",
        "The sequence in which your code is run.\n",
        "\n",
        "* Conditional Statements\n",
        "* Boolean Expressions\n",
        "* For and While Loops\n",
        "* Break and Continue\n",
        "* Zip and Enumerate\n",
        "* List Comprehension"
      ],
      "metadata": {
        "id": "GyXNrE374qis"
      }
    },
    {
      "cell_type": "markdown",
      "source": [
        "Remember that $=$ is an assignment operator while $==$ is a comparison operator."
      ],
      "metadata": {
        "id": "e0aFSoz-7OeB"
      }
    },
    {
      "cell_type": "code",
      "execution_count": 1,
      "metadata": {
        "id": "yNJzwJBj4kXO",
        "colab": {
          "base_uri": "https://localhost:8080/"
        },
        "outputId": "0b044e39-e902-414b-bece-3c28a032297d"
      },
      "outputs": [
        {
          "output_type": "stream",
          "name": "stdout",
          "text": [
            "Why don't you take an unbrella?\n"
          ]
        }
      ],
      "source": [
        "weather = 'cloudy'\n",
        "\n",
        "if weather == 'rainy':\n",
        "  print('Take an umbrella.')\n",
        "elif weather == 'cloudy':\n",
        "  print('Why don\\'t you take an unbrella?')\n",
        "else:\n",
        "  print('Have a lovely day.')"
      ]
    },
    {
      "cell_type": "markdown",
      "source": [
        "**Indentation**\n",
        "\n",
        "In Python, we use indentation to enclose blocks of code.\n",
        "For example, *if statements* use indentation to tell Python what code is inside and outside of different clauses.\n",
        "\n",
        "**Spaces or Tabs**\n",
        "Spaces are the preferred indentation method.\n",
        "\n",
        "Tabs should be used solely to remain consistent with code that is already indented with tabs.\n",
        "\n",
        "Python disallows mixing tabs and spaces for indentation.\n",
        "\n",
        "\n"
      ],
      "metadata": {
        "id": "__Uvl7OA8f57"
      }
    },
    {
      "cell_type": "markdown",
      "source": [
        "# Boolean Expression\n",
        "*if statement* must be a boolean expression that evaluates to either True or False."
      ],
      "metadata": {
        "id": "_Hrtp1YkYErL"
      }
    },
    {
      "cell_type": "code",
      "source": [
        "weight = 53\n",
        "height = 1.58\n",
        "if 18.5 <= weight / height**2 < 25:\n",
        "    print(\"BMI is considered 'normal'\")"
      ],
      "metadata": {
        "id": "WbRuev2q8VZc",
        "colab": {
          "base_uri": "https://localhost:8080/"
        },
        "outputId": "ff865125-71ac-46e3-9787-4994c58fcdd4"
      },
      "execution_count": 2,
      "outputs": [
        {
          "output_type": "stream",
          "name": "stdout",
          "text": [
            "BMI is considered 'normal'\n"
          ]
        }
      ]
    },
    {
      "cell_type": "markdown",
      "source": [
        "## Good & Bad Boolean Examples\n",
        "\n",
        "* Don't compare a boolean variable with ==True or ==False.\n",
        " **The comparision isn't necessary**, since the boolean variable itself is a boolean expression. \n",
        "```\n",
        "# bad example\n",
        "is_cold = True\n",
        "if is_cold == True:\n",
        "   print('The weather is cold!')\n",
        "```\n",
        "```\n",
        "# good example\n",
        "is_cold = True\n",
        "if is_cold:\n",
        "   print('The weather is cold!')\n",
        "```\n",
        "If you want to check whether a boolean is False, use the not operator. \n",
        "```\n",
        "# good example\n",
        "is_cold = True\n",
        "if not is_cold:\n",
        "   print('The weather is NOT cold!')\n",
        "```\n",
        "\n",
        "* Don't use True or False as condition. \n",
        "```\n",
        "# bad example\n",
        "if True:\n",
        "   print('This indented code will always get run.')\n",
        "```\n",
        "* Don't use any condition that you know will always evaluate to True.\n",
        "\n",
        "* Be careful writing expressions that use logical operators\n",
        "```\n",
        "# bad example\n",
        "if weather == 'snow' or 'rain':  # 'rain' part is not boolean, but string\n",
        "   print('Wear boots!)\n",
        "```\n",
        "```\n",
        "# good example\n",
        "if weather == 'snow' or weather =='rain': \n",
        "   print('Wear boots!)\n",
        "```\n",
        "\n",
        "\n",
        "\n",
        "\n"
      ],
      "metadata": {
        "id": "lbhRzAlDY11B"
      }
    },
    {
      "cell_type": "markdown",
      "source": [
        "## Truth Value Testing\n",
        "\n",
        "If we use a non-boolean object as a condition in an *if statement* in place of boolean expression, Python will check for its truth value and use that to decide whether or not to run the indented code."
      ],
      "metadata": {
        "id": "saKGzrjgiw30"
      }
    },
    {
      "cell_type": "code",
      "source": [
        "# look how if statement evaluate a string\n",
        "if 'hello':\n",
        "  print('The string, hello was evaluated to True.')"
      ],
      "metadata": {
        "colab": {
          "base_uri": "https://localhost:8080/"
        },
        "id": "vkPmHE0TXy8N",
        "outputId": "93a7935e-0746-41e3-9678-a9ed071d7494"
      },
      "execution_count": 3,
      "outputs": [
        {
          "output_type": "stream",
          "name": "stdout",
          "text": [
            "The string, hello was evaluated to True.\n"
          ]
        }
      ]
    },
    {
      "cell_type": "code",
      "source": [
        "if ['a']:\n",
        "  print('The string, hello was evaluated to True.')"
      ],
      "metadata": {
        "colab": {
          "base_uri": "https://localhost:8080/"
        },
        "id": "yuVYcRQ_jsAW",
        "outputId": "3c1218f7-a489-4db8-de2b-baea5d576c22"
      },
      "execution_count": 4,
      "outputs": [
        {
          "output_type": "stream",
          "name": "stdout",
          "text": [
            "The string, hello was evaluated to True.\n"
          ]
        }
      ]
    },
    {
      "cell_type": "code",
      "source": [
        "if 100:\n",
        "  print('The string, hello was evaluated to True.')"
      ],
      "metadata": {
        "colab": {
          "base_uri": "https://localhost:8080/"
        },
        "id": "QLHiqiunj8zV",
        "outputId": "72cb188a-2a87-49b7-e8ef-fc1d0e45d3a4"
      },
      "execution_count": 5,
      "outputs": [
        {
          "output_type": "stream",
          "name": "stdout",
          "text": [
            "The string, hello was evaluated to True.\n"
          ]
        }
      ]
    },
    {
      "cell_type": "markdown",
      "source": [
        "**The Built-in Objects that are Considered False in Python**"
      ],
      "metadata": {
        "id": "XmsAJCkakGPT"
      }
    },
    {
      "cell_type": "code",
      "source": [
        "# constants defined to be False: None, False\n",
        "if None:\n",
        "  print('See if it\\'s True.')"
      ],
      "metadata": {
        "id": "TsKa6i60kA1C"
      },
      "execution_count": 6,
      "outputs": []
    },
    {
      "cell_type": "code",
      "source": [
        "if False:\n",
        "  print('See if it\\'s True.')"
      ],
      "metadata": {
        "id": "hscZWCaXkwnR"
      },
      "execution_count": 7,
      "outputs": []
    },
    {
      "cell_type": "code",
      "source": [
        "# zero of any numeric type\n",
        "if 0:\n",
        "  print('See if it\\'s True.')\n",
        "if 0.0:\n",
        "  print('See if it\\'s True.')\n",
        "if 0j:\n",
        "  print('See if it\\'s True.')\n",
        "# if decimal(0):\n",
        "  # print('See if it\\'s True.')\n",
        "#if fraction(0, 1):\n",
        "  # print('See if it\\'s True.')"
      ],
      "metadata": {
        "id": "sPd2yq7sk8pW"
      },
      "execution_count": 8,
      "outputs": []
    },
    {
      "cell_type": "code",
      "source": [
        "# empty sequences and collections\n",
        "if \"\":\n",
        "  print('See if it\\'s True.')\n",
        "if ():\n",
        "  print('See if it\\'s True.')\n",
        "if []:\n",
        "  print('See if it\\'s True.')\n",
        "if {}:\n",
        "  print('See if it\\'s True.')\n",
        "if range(0):\n",
        "  print('See if it\\'s True.')"
      ],
      "metadata": {
        "id": "71APRuXsla4b"
      },
      "execution_count": 9,
      "outputs": []
    },
    {
      "cell_type": "code",
      "source": [
        "list(range(0))"
      ],
      "metadata": {
        "id": "ZL2SSExnmAEk",
        "outputId": "f619756d-6efa-4d46-c10f-09a99c0a3b82",
        "colab": {
          "base_uri": "https://localhost:8080/"
        }
      },
      "execution_count": 10,
      "outputs": [
        {
          "output_type": "execute_result",
          "data": {
            "text/plain": [
              "[]"
            ]
          },
          "metadata": {},
          "execution_count": 10
        }
      ]
    },
    {
      "cell_type": "markdown",
      "source": [
        "## Practice of Range"
      ],
      "metadata": {
        "id": "2F_wseEUGJig"
      }
    },
    {
      "cell_type": "code",
      "source": [
        "# check the output of this code\n",
        "list(range(0, -5))"
      ],
      "metadata": {
        "id": "1XMcsoBomBNh",
        "colab": {
          "base_uri": "https://localhost:8080/"
        },
        "outputId": "a906348d-6f28-4532-bd01-f4cf71d3936a"
      },
      "execution_count": 11,
      "outputs": [
        {
          "output_type": "execute_result",
          "data": {
            "text/plain": [
              "[]"
            ]
          },
          "metadata": {},
          "execution_count": 11
        }
      ]
    },
    {
      "cell_type": "markdown",
      "source": [
        "# Counter Dictionary"
      ],
      "metadata": {
        "id": "5dP7OqIxHVNW"
      }
    },
    {
      "cell_type": "code",
      "source": [
        "words = ['good', 'extraordinary', 'transcendent', 'era-defining', 'terrific', 'good', 'transcendent']\n",
        "\n",
        "counter = {}\n",
        "# count the words in the list using dictionary\n",
        "for word in words:\n",
        "  if word not in counter:\n",
        "    counter[word] = 1\n",
        "  else:\n",
        "    counter[word] += 1\n",
        "counter"
      ],
      "metadata": {
        "colab": {
          "base_uri": "https://localhost:8080/"
        },
        "id": "W2s2edW0GQnE",
        "outputId": "7f6337df-d63a-4992-e27e-0b05dd841383"
      },
      "execution_count": 12,
      "outputs": [
        {
          "output_type": "execute_result",
          "data": {
            "text/plain": [
              "{'good': 2,\n",
              " 'extraordinary': 1,\n",
              " 'transcendent': 2,\n",
              " 'era-defining': 1,\n",
              " 'terrific': 1}"
            ]
          },
          "metadata": {},
          "execution_count": 12
        }
      ]
    },
    {
      "cell_type": "code",
      "source": [
        "# without if statement\n",
        "# simpler way\n",
        "words = ['good', 'extraordinary', 'transcendent', 'era-defining', 'terrific', 'good', 'transcendent']\n",
        "\n",
        "counter = {}\n",
        "# count the words in the list using dictionary\n",
        "for word in words:\n",
        "  counter[word] = counter.get(word, 0) + 1\n",
        "counter"
      ],
      "metadata": {
        "colab": {
          "base_uri": "https://localhost:8080/"
        },
        "id": "fEa2AzXA6Cdy",
        "outputId": "a595f8f1-154b-499c-a7fb-3dcaeccd5c90"
      },
      "execution_count": 13,
      "outputs": [
        {
          "output_type": "execute_result",
          "data": {
            "text/plain": [
              "{'good': 2,\n",
              " 'extraordinary': 1,\n",
              " 'transcendent': 2,\n",
              " 'era-defining': 1,\n",
              " 'terrific': 1}"
            ]
          },
          "metadata": {},
          "execution_count": 13
        }
      ]
    },
    {
      "cell_type": "code",
      "source": [
        "counter.values(), counter.items()"
      ],
      "metadata": {
        "colab": {
          "base_uri": "https://localhost:8080/"
        },
        "id": "U3oxj_fO6r_a",
        "outputId": "08115281-ef71-468f-d56d-d37cd05cdcb9"
      },
      "execution_count": 14,
      "outputs": [
        {
          "output_type": "execute_result",
          "data": {
            "text/plain": [
              "(dict_values([2, 1, 2, 1, 1]),\n",
              " dict_items([('good', 2), ('extraordinary', 1), ('transcendent', 2), ('era-defining', 1), ('terrific', 1)]))"
            ]
          },
          "metadata": {},
          "execution_count": 14
        }
      ]
    },
    {
      "cell_type": "code",
      "source": [
        "# how to get the maximum value of dictionary\n",
        "# not max(counter), which will return the largest key (string)\n",
        "max(counter.values())"
      ],
      "metadata": {
        "colab": {
          "base_uri": "https://localhost:8080/"
        },
        "id": "Ki_9ZHcT_R4M",
        "outputId": "010ef08e-8c1c-46e2-d4a2-0f40dd2b2b7a"
      },
      "execution_count": 15,
      "outputs": [
        {
          "output_type": "execute_result",
          "data": {
            "text/plain": [
              "2"
            ]
          },
          "metadata": {},
          "execution_count": 15
        }
      ]
    },
    {
      "cell_type": "code",
      "source": [
        "# max(counter), which will return the largest key (string)\n",
        "max(counter)"
      ],
      "metadata": {
        "colab": {
          "base_uri": "https://localhost:8080/",
          "height": 36
        },
        "id": "AVwaF1Fl_jPy",
        "outputId": "7ba4c3bb-172d-4e7c-d5fb-42191f0012ce"
      },
      "execution_count": 16,
      "outputs": [
        {
          "output_type": "execute_result",
          "data": {
            "text/plain": [
              "'transcendent'"
            ],
            "application/vnd.google.colaboratory.intrinsic+json": {
              "type": "string"
            }
          },
          "metadata": {},
          "execution_count": 16
        }
      ]
    },
    {
      "cell_type": "code",
      "source": [
        "counter.get('great',0)"
      ],
      "metadata": {
        "colab": {
          "base_uri": "https://localhost:8080/"
        },
        "id": "vLv5MT_vIrYk",
        "outputId": "ce23cb5c-3a81-4b8b-8ac6-700f12cc8074"
      },
      "execution_count": 17,
      "outputs": [
        {
          "output_type": "execute_result",
          "data": {
            "text/plain": [
              "0"
            ]
          },
          "metadata": {},
          "execution_count": 17
        }
      ]
    },
    {
      "cell_type": "markdown",
      "source": [
        "## Iterate through Dictionary"
      ],
      "metadata": {
        "id": "qK9XD9L6Ji75"
      }
    },
    {
      "cell_type": "code",
      "source": [
        "for e in counter:\n",
        "  print(e)"
      ],
      "metadata": {
        "colab": {
          "base_uri": "https://localhost:8080/"
        },
        "id": "gQy_ieaPJns_",
        "outputId": "e5465c2a-01b2-4567-db46-957a95ff7fcb"
      },
      "execution_count": 18,
      "outputs": [
        {
          "output_type": "stream",
          "name": "stdout",
          "text": [
            "good\n",
            "extraordinary\n",
            "transcendent\n",
            "era-defining\n",
            "terrific\n"
          ]
        }
      ]
    },
    {
      "cell_type": "markdown",
      "source": [
        "It only gives you access to keys. What if you want to print values as well?"
      ],
      "metadata": {
        "id": "I2WAVhGNJrqo"
      }
    },
    {
      "cell_type": "code",
      "source": [
        "# add iterable.items()\n",
        "for key, item in counter.items():\n",
        "  print(key, item)"
      ],
      "metadata": {
        "colab": {
          "base_uri": "https://localhost:8080/"
        },
        "id": "YZDyxNAYJvN9",
        "outputId": "c493158d-9934-4848-d290-fa4e470eaf16"
      },
      "execution_count": 19,
      "outputs": [
        {
          "output_type": "stream",
          "name": "stdout",
          "text": [
            "good 2\n",
            "extraordinary 1\n",
            "transcendent 2\n",
            "era-defining 1\n",
            "terrific 1\n"
          ]
        }
      ]
    },
    {
      "cell_type": "code",
      "source": [
        "fruit_count, not_fruit_count = 0, 0\n",
        "basket_items = {'apples': 4, 'oranges': 19, 'kites': 3, 'sandwiches': 8}\n",
        "fruits = ['apples', 'oranges', 'pears', 'peaches', 'grapes', 'bananas']\n",
        "\n",
        "# count the number of fruits or not fruits\n",
        "for key, count in basket_items.items():\n",
        "  if key in fruits:\n",
        "    fruit_count += count\n",
        "  else:\n",
        "    not_fruit_count += count\n",
        "\n",
        "print('The Number of Fruits is {}. The Number of Non-Fruit is {}.'.format(fruit_count, not_fruit_count))"
      ],
      "metadata": {
        "colab": {
          "base_uri": "https://localhost:8080/"
        },
        "id": "fCnim4CsJ3VW",
        "outputId": "d7ed2417-6021-4d16-bd34-960f7dab54e0"
      },
      "execution_count": 20,
      "outputs": [
        {
          "output_type": "stream",
          "name": "stdout",
          "text": [
            "The Number of Fruits is 23. The Number of Non-Fruit is 11.\n"
          ]
        }
      ]
    },
    {
      "cell_type": "markdown",
      "source": [
        "# [Must Review] for loop, while with break and continue\n",
        "\n",
        "* break: terminates a loop\n",
        "* continue: skips one iteration of a loop\n",
        "\n",
        "## Quiz:\n",
        "\n",
        "Write a loop with a break statement to create a string, news_ticker, that is exactly 140 characters long. You should create the news ticker by adding headlines from the headlines list, inserting a space in between each headline. If necessary, truncate the last headline in the middle so that news_ticker is exactly 140 characters long.\n",
        "\n",
        "Remember that break works in both for and while loops. Use whichever loop seems most appropriate. Consider adding print statements to your code to help you resolve bugs."
      ],
      "metadata": {
        "id": "ptQ8A_SivuG4"
      }
    },
    {
      "cell_type": "code",
      "source": [
        "headlines = [\"Local Bear Eaten by Man\",\n",
        "             \"Legislature Announces New Laws\",\n",
        "             \"Peasant Discovers Violence Inherent in System\",\n",
        "             \"Cat Rescues Fireman Stuck in Tree\",\n",
        "             \"Brave Knight Runs Away\",\n",
        "             \"Papperbok Review: Totally Triffic\"]\n",
        "\n",
        "news_ticker = \"\"\n",
        "\n",
        "for headline in headlines:\n",
        "  news_ticker += headline + ' '\n",
        "  if len(news_ticker) >= 140:\n",
        "    news_ticker = news_ticker[:140]\n",
        "    break # here, we want to stop the iteration\n",
        "len(news_ticker)"
      ],
      "metadata": {
        "id": "pmzE7mc8zRS5",
        "colab": {
          "base_uri": "https://localhost:8080/"
        },
        "outputId": "4a269885-893d-4c4b-d8d5-ef546a9062f8"
      },
      "execution_count": 21,
      "outputs": [
        {
          "output_type": "execute_result",
          "data": {
            "text/plain": [
              "140"
            ]
          },
          "metadata": {},
          "execution_count": 21
        }
      ]
    },
    {
      "cell_type": "markdown",
      "source": [
        "## [Must Review] Coding Quiz: Check for Prime Numbers\n",
        "<br>\n",
        "Prime numbers are whole numbers that have only two factors: 1 and the number itself. The first few prime numbers are 2, 3, 5, 7.\n",
        "\n",
        "For instance, 6 has four factors: 1, 2, 3, 6.<br>\n",
        "<br> 1 X 6 = 6\n",
        "<br> 2 X 3 = 6\n",
        "<Br> So we know 6 is not a prime number.\n",
        "<br>\n",
        "In the following coding environment, write code to check if the numbers provided in the list check_prime are prime numbers.\n",
        "<br>\n",
        "<br>\n",
        "If the numbers are prime, the code should print \"[number] is a prime number.\"\n",
        "If the number is NOT a prime number, it should print \"[number] is not a prime number\", and a factor of that number, other than 1 and the number itself: \"[factor] is a factor of [number]\".\n"
      ],
      "metadata": {
        "id": "TrMYqnaHTsF_"
      }
    },
    {
      "cell_type": "code",
      "source": [
        "## Your code should check if each number in the list is a prime number\n",
        "check_prime = [26, 39, 51, 53, 57, 79, 85]\n",
        "\n",
        "## write your code here\n",
        "## HINT: You can use the modulo operator to find a factor\n",
        "for num in check_prime:\n",
        "  for factor in range(2, num):\n",
        "    if num % factor == 0:\n",
        "      print('{} is NOT a prime number, because {} is a factor of {}\\n'.format(num, factor, num))\n",
        "      break\n",
        "    else:\n",
        "      if num == factor + 1:\n",
        "        print('{} is a prime number \\n'.format(num))\n"
      ],
      "metadata": {
        "colab": {
          "base_uri": "https://localhost:8080/"
        },
        "id": "AySfE7Zs2Y9z",
        "outputId": "91597b11-548a-41d8-e5a0-e9d084badcb2"
      },
      "execution_count": 22,
      "outputs": [
        {
          "output_type": "stream",
          "name": "stdout",
          "text": [
            "26 is NOT a prime number, because 2 is a factor of 26\n",
            "\n",
            "39 is NOT a prime number, because 3 is a factor of 39\n",
            "\n",
            "51 is NOT a prime number, because 3 is a factor of 51\n",
            "\n",
            "53 is a prime number \n",
            "\n",
            "57 is NOT a prime number, because 3 is a factor of 57\n",
            "\n",
            "79 is a prime number \n",
            "\n",
            "85 is NOT a prime number, because 5 is a factor of 85\n",
            "\n"
          ]
        }
      ]
    },
    {
      "cell_type": "markdown",
      "source": [
        "# Zip & Enumerate\n",
        "\n",
        "Zip returns an iterator that combines multiple iterables into one sequence of tuple. Each tuple contains the elements in that position from all the iterables."
      ],
      "metadata": {
        "id": "OnpDEo3GYDa5"
      }
    },
    {
      "cell_type": "code",
      "source": [
        "items = ['bananas', 'mattresses', 'dog kennels', 'machine', 'cheeses']\n",
        "weights = [15, 34, 42, 120, 5]\n",
        "\n",
        "# want to combine two lists as a pair for each\n",
        "print(list(zip(items, weights)))"
      ],
      "metadata": {
        "colab": {
          "base_uri": "https://localhost:8080/"
        },
        "id": "XIalKjbKVlgz",
        "outputId": "377b3d19-86f1-4302-b8a5-be7aab4fdfe5"
      },
      "execution_count": 23,
      "outputs": [
        {
          "output_type": "stream",
          "name": "stdout",
          "text": [
            "[('bananas', 15), ('mattresses', 34), ('dog kennels', 42), ('machine', 120), ('cheeses', 5)]\n"
          ]
        }
      ]
    },
    {
      "cell_type": "code",
      "source": [
        "# or iterate through it with for loop if you want to print values\n",
        "for cargo in zip(items, weights):\n",
        "  print(cargo[0], cargo[1])"
      ],
      "metadata": {
        "colab": {
          "base_uri": "https://localhost:8080/"
        },
        "id": "B98IT81kYY8I",
        "outputId": "e89e0651-5b1e-4916-91bc-5a17ff3d82d1"
      },
      "execution_count": 24,
      "outputs": [
        {
          "output_type": "stream",
          "name": "stdout",
          "text": [
            "bananas 15\n",
            "mattresses 34\n",
            "dog kennels 42\n",
            "machine 120\n",
            "cheeses 5\n"
          ]
        }
      ]
    },
    {
      "cell_type": "code",
      "source": [
        "# or you can unpack each tuples with for loop like this.\n",
        "for item, weight in zip(items, weights):\n",
        "  print(item, weight)"
      ],
      "metadata": {
        "colab": {
          "base_uri": "https://localhost:8080/"
        },
        "id": "jh30K9D5ZJ6B",
        "outputId": "1b3ee311-f637-4722-eed4-03e9d6373963"
      },
      "execution_count": 25,
      "outputs": [
        {
          "output_type": "stream",
          "name": "stdout",
          "text": [
            "bananas 15\n",
            "mattresses 34\n",
            "dog kennels 42\n",
            "machine 120\n",
            "cheeses 5\n"
          ]
        }
      ]
    },
    {
      "cell_type": "code",
      "source": [
        "# zip\n",
        "manifest = zip(items, weights)\n",
        "\n",
        "# unzip it using asterisk\n",
        "items, weights = zip(*manifest)\n",
        "print(items)\n",
        "print(weights)"
      ],
      "metadata": {
        "colab": {
          "base_uri": "https://localhost:8080/"
        },
        "id": "yxVgq-SVZR4H",
        "outputId": "86713f27-e168-4953-81b8-89b3300691da"
      },
      "execution_count": 26,
      "outputs": [
        {
          "output_type": "stream",
          "name": "stdout",
          "text": [
            "('bananas', 'mattresses', 'dog kennels', 'machine', 'cheeses')\n",
            "(15, 34, 42, 120, 5)\n"
          ]
        }
      ]
    },
    {
      "cell_type": "markdown",
      "source": [
        "**Quiz: Transpose with Zip**\n",
        "<br>\n",
        "Use zip to transpose data from a 4-by-3 matrix to a 3-by-4 matrix. There's actually a cool trick for this! Feel free to look at the solutions if you can't figure it out."
      ],
      "metadata": {
        "id": "0o30uPk_gu6b"
      }
    },
    {
      "cell_type": "code",
      "source": [
        "data = ((0, 1, 2), (3, 4, 5), (6, 7, 8), (9, 10, 11))\n",
        "\n",
        "data_transpose = tuple(zip(*data))# replace with your code\n",
        "print(data_transpose)"
      ],
      "metadata": {
        "colab": {
          "base_uri": "https://localhost:8080/"
        },
        "id": "zAtLYO9cg2xb",
        "outputId": "f9bd783d-0659-4bf4-97f3-403501618a08"
      },
      "execution_count": 27,
      "outputs": [
        {
          "output_type": "stream",
          "name": "stdout",
          "text": [
            "((0, 3, 6, 9), (1, 4, 7, 10), (2, 5, 8, 11))\n"
          ]
        }
      ]
    },
    {
      "cell_type": "code",
      "source": [
        "items = list(items)\n",
        "weights = list(weights)\n",
        "\n",
        "# iterate through the list of tuples containing index and value of each item in the list\n",
        "for i, item in zip(range(len(items)), items):\n",
        "  print(i, item)\n",
        "\n",
        "# or simply use enumerate function\n",
        "for i, item in enumerate(items):\n",
        "  print(i, item)"
      ],
      "metadata": {
        "colab": {
          "base_uri": "https://localhost:8080/"
        },
        "id": "-qFjXcyBZtpZ",
        "outputId": "a11a9839-3af6-4e7b-cf79-0b39ce2c30ba"
      },
      "execution_count": 28,
      "outputs": [
        {
          "output_type": "stream",
          "name": "stdout",
          "text": [
            "0 bananas\n",
            "1 mattresses\n",
            "2 dog kennels\n",
            "3 machine\n",
            "4 cheeses\n",
            "0 bananas\n",
            "1 mattresses\n",
            "2 dog kennels\n",
            "3 machine\n",
            "4 cheeses\n"
          ]
        }
      ]
    },
    {
      "cell_type": "markdown",
      "source": [
        "# List Comprehension with if,else statement"
      ],
      "metadata": {
        "id": "tRI9nS4j0OVZ"
      }
    },
    {
      "cell_type": "code",
      "source": [
        "# add an conditional\n",
        "squares = [x**2 for x in range(9) if x %2 == 0]\n",
        "squares"
      ],
      "metadata": {
        "colab": {
          "base_uri": "https://localhost:8080/"
        },
        "id": "QgUKUww4bgCh",
        "outputId": "2b209da1-d375-4b87-9c52-51b845cc02e7"
      },
      "execution_count": 29,
      "outputs": [
        {
          "output_type": "execute_result",
          "data": {
            "text/plain": [
              "[0, 4, 16, 36, 64]"
            ]
          },
          "metadata": {},
          "execution_count": 29
        }
      ]
    },
    {
      "cell_type": "markdown",
      "source": [
        "However, when adding an else, it goes differently.\n",
        "You should put conditionals before **for x in range(9)**"
      ],
      "metadata": {
        "id": "xyTOyQHY0vsY"
      }
    },
    {
      "cell_type": "code",
      "source": [
        "squares = [x**2 if x % 2 == 0 else x + 3 for x in range(9)]\n",
        "squares"
      ],
      "metadata": {
        "colab": {
          "base_uri": "https://localhost:8080/"
        },
        "id": "4XQ5hzOe0n36",
        "outputId": "9522b49c-a34d-4153-8ee5-6dac26a3423d"
      },
      "execution_count": 30,
      "outputs": [
        {
          "output_type": "execute_result",
          "data": {
            "text/plain": [
              "[0, 4, 4, 6, 16, 8, 36, 10, 64]"
            ]
          },
          "metadata": {},
          "execution_count": 30
        }
      ]
    }
  ]
}