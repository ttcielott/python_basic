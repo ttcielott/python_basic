{
  "nbformat": 4,
  "nbformat_minor": 0,
  "metadata": {
    "colab": {
      "provenance": [],
      "toc_visible": true,
      "authorship_tag": "ABX9TyO4pAPmpa9WjCumXAIlyzhb",
      "include_colab_link": true
    },
    "kernelspec": {
      "name": "python3",
      "display_name": "Python 3"
    },
    "language_info": {
      "name": "python"
    }
  },
  "cells": [
    {
      "cell_type": "markdown",
      "metadata": {
        "id": "view-in-github",
        "colab_type": "text"
      },
      "source": [
        "<a href=\"https://colab.research.google.com/github/ttcielott/python_basic/blob/main/python_data_structure.ipynb\" target=\"_parent\"><img src=\"https://colab.research.google.com/assets/colab-badge.svg\" alt=\"Open In Colab\"/></a>"
      ]
    },
    {
      "cell_type": "markdown",
      "source": [
        "# Data Structure\n",
        "\n",
        "Data Structures are containers that can include different data types.\n",
        "\n",
        "A data type is just a type that classifies data. This can include primitive (basic) data types like integers, booleans, and strings, as well as data structures, such as lists.\n",
        "\n",
        "Data structures are containers that organize and group data types together in different ways. For example, some of the elements that a list can contain are integers, strings, and even other lists!"
      ],
      "metadata": {
        "id": "qklkT1T55FfO"
      }
    },
    {
      "cell_type": "markdown",
      "source": [
        "## List\n",
        "\n",
        "A list is one of the most common and basic data structures in Python."
      ],
      "metadata": {
        "id": "21FdK60U5TTX"
      }
    },
    {
      "cell_type": "code",
      "execution_count": null,
      "metadata": {
        "colab": {
          "base_uri": "https://localhost:8080/"
        },
        "id": "2EH2LAWm5Bzl",
        "outputId": "bdf702c6-d342-4bd4-f722-0f44aa9ff183"
      },
      "outputs": [
        {
          "output_type": "stream",
          "name": "stdout",
          "text": [
            "True\n",
            "False\n",
            "True\n"
          ]
        }
      ],
      "source": [
        "# how to use membership operators, 'in' 'not in'\n",
        "print('Dobby' in 'Dobby Only Wants Harry Potter To Be Safe.')\n",
        "print('Ron' not in 'Ron Weasley')\n",
        "print(2 in ['a', 1, 4.0, 2])"
      ]
    },
    {
      "cell_type": "markdown",
      "source": [
        "### Mutability \n",
        "\n",
        "# Wheter an object can change its values after it has been created. "
      ],
      "metadata": {
        "id": "UfxtbdS4aIQD"
      }
    },
    {
      "cell_type": "code",
      "source": [
        "# Is a string object mutable?\n",
        "\n",
        "name = 'Harry Potter'\n",
        "try:\n",
        "  name[:6] = 'James'\n",
        "except:\n",
        "  print('A String Object is Not Mutable.')"
      ],
      "metadata": {
        "colab": {
          "base_uri": "https://localhost:8080/"
        },
        "id": "62kp2NCSY67i",
        "outputId": "4251a56b-1ee6-4f5b-f408-d1c96ea07766"
      },
      "execution_count": null,
      "outputs": [
        {
          "output_type": "stream",
          "name": "stdout",
          "text": [
            "A String Object is Not Mutable.\n"
          ]
        }
      ]
    },
    {
      "cell_type": "code",
      "source": [
        "# Is a list object mutable?\n",
        "\n",
        "a = ['a', 1, 1.0, '#']\n",
        "a[2:4] = ['hello','@']\n",
        "a"
      ],
      "metadata": {
        "colab": {
          "base_uri": "https://localhost:8080/"
        },
        "id": "117Mda6hagpI",
        "outputId": "a410860c-e98c-4692-a483-2cb8e4fd9be9"
      },
      "execution_count": null,
      "outputs": [
        {
          "output_type": "execute_result",
          "data": {
            "text/plain": [
              "['a', 1, 'hello', '@']"
            ]
          },
          "metadata": {},
          "execution_count": 18
        }
      ]
    },
    {
      "cell_type": "code",
      "source": [
        "# comparison between immutable strings and mutable list\n",
        "\n",
        "# immutable string object\n",
        "name = 'George'\n",
        "student = name # student variable is now George\n",
        "name = 'William' # assigning a new value to name variable affects student variable? \n",
        "print(student) \n",
        "\n",
        "# mutable list object\n",
        "l1 = [1,3,4]\n",
        "l2 = l1\n",
        "l1[0] = 2  # this change affects l2 as well\n",
        "l2"
      ],
      "metadata": {
        "colab": {
          "base_uri": "https://localhost:8080/"
        },
        "id": "Wg9g4_yRHh5q",
        "outputId": "823bc79a-cf81-4150-a14f-a1a57044b55d"
      },
      "execution_count": null,
      "outputs": [
        {
          "output_type": "stream",
          "name": "stdout",
          "text": [
            "George\n"
          ]
        },
        {
          "output_type": "execute_result",
          "data": {
            "text/plain": [
              "[2, 3, 4]"
            ]
          },
          "metadata": {},
          "execution_count": 19
        }
      ]
    },
    {
      "cell_type": "markdown",
      "source": [
        "**A List Object Is Mutable!**"
      ],
      "metadata": {
        "id": "7Uwly8Jaa8Qa"
      }
    },
    {
      "cell_type": "markdown",
      "source": [
        "### Order\n",
        "\n",
        "Whether the order of elements in an object matters (whether you can index (=access) elements in an object).\n",
        "\n",
        "**Both strings and lists are ordered.** "
      ],
      "metadata": {
        "id": "kFQLHJGqbPnV"
      }
    },
    {
      "cell_type": "markdown",
      "source": [
        "### Useful functions for List"
      ],
      "metadata": {
        "id": "v5ESo9cAJP8_"
      }
    },
    {
      "cell_type": "code",
      "source": [
        "names = ['Amy', 'Carol', 'Jenifer', 'Daniel']\n",
        "\n",
        "# find the greatest element\n",
        "# the maximum element in a list of strings is element that appears the last alphabetically \n",
        "max(names)"
      ],
      "metadata": {
        "colab": {
          "base_uri": "https://localhost:8080/",
          "height": 35
        },
        "id": "OGXvuAsya2Jv",
        "outputId": "4524d757-5e7c-4c6c-9379-eb9b08880cd6"
      },
      "execution_count": null,
      "outputs": [
        {
          "output_type": "execute_result",
          "data": {
            "text/plain": [
              "'Jenifer'"
            ],
            "application/vnd.google.colaboratory.intrinsic+json": {
              "type": "string"
            }
          },
          "metadata": {},
          "execution_count": 20
        }
      ]
    },
    {
      "cell_type": "code",
      "source": [
        "'Daniel' > 'Carol'"
      ],
      "metadata": {
        "colab": {
          "base_uri": "https://localhost:8080/"
        },
        "id": "wa86SdWuJlxo",
        "outputId": "cd66f15f-1c0e-4461-de8c-0b688a3febdd"
      },
      "execution_count": null,
      "outputs": [
        {
          "output_type": "execute_result",
          "data": {
            "text/plain": [
              "True"
            ]
          },
          "metadata": {},
          "execution_count": 21
        }
      ]
    },
    {
      "cell_type": "code",
      "source": [
        "# max function won't work on incomparable types\n",
        "try:\n",
        "  max([1, 'Amy'])\n",
        "except:\n",
        "  print('You can\\'t compare incomparable types.')"
      ],
      "metadata": {
        "colab": {
          "base_uri": "https://localhost:8080/"
        },
        "id": "fIdkqIIrKPRr",
        "outputId": "bafc3e11-3678-44b1-a514-9eb3f8e9def4"
      },
      "execution_count": null,
      "outputs": [
        {
          "output_type": "stream",
          "name": "stdout",
          "text": [
            "You can't compare incomparable types.\n"
          ]
        }
      ]
    },
    {
      "cell_type": "code",
      "source": [
        "# sorted() returns a copy of a list in order from the smallest to the largest\n",
        "sorted(names)"
      ],
      "metadata": {
        "colab": {
          "base_uri": "https://localhost:8080/"
        },
        "id": "7v4_gEa0KbxQ",
        "outputId": "ded5a8a1-23a3-443d-9b24-549f1377bf69"
      },
      "execution_count": null,
      "outputs": [
        {
          "output_type": "execute_result",
          "data": {
            "text/plain": [
              "['Amy', 'Carol', 'Daniel', 'Jenifer']"
            ]
          },
          "metadata": {},
          "execution_count": 23
        }
      ]
    },
    {
      "cell_type": "code",
      "source": [
        "# sorted() leaves the original list unchanged\n",
        "names"
      ],
      "metadata": {
        "colab": {
          "base_uri": "https://localhost:8080/"
        },
        "id": "t5oRflqtK9Ca",
        "outputId": "48926bed-95fb-4eae-bb36-1b0ff708e5df"
      },
      "execution_count": null,
      "outputs": [
        {
          "output_type": "execute_result",
          "data": {
            "text/plain": [
              "['Amy', 'Carol', 'Jenifer', 'Daniel']"
            ]
          },
          "metadata": {},
          "execution_count": 24
        }
      ]
    },
    {
      "cell_type": "code",
      "source": [
        "# sort a list in order from the largest to the smallest\n",
        "sorted(names, reverse = True)"
      ],
      "metadata": {
        "colab": {
          "base_uri": "https://localhost:8080/"
        },
        "id": "pPNBt0_0LH8h",
        "outputId": "6cb1ab13-20b8-45bd-8afd-87bb47221c3a"
      },
      "execution_count": null,
      "outputs": [
        {
          "output_type": "execute_result",
          "data": {
            "text/plain": [
              "['Jenifer', 'Daniel', 'Carol', 'Amy']"
            ]
          },
          "metadata": {},
          "execution_count": 25
        }
      ]
    },
    {
      "cell_type": "code",
      "source": [
        "# use join method \n",
        "'\\n'.join(names)"
      ],
      "metadata": {
        "colab": {
          "base_uri": "https://localhost:8080/",
          "height": 35
        },
        "id": "kqZyd4PPLSuz",
        "outputId": "f66802ce-25b3-4ebc-ed51-9d7f1edff597"
      },
      "execution_count": null,
      "outputs": [
        {
          "output_type": "execute_result",
          "data": {
            "text/plain": [
              "'Amy\\nCarol\\nJenifer\\nDaniel'"
            ],
            "application/vnd.google.colaboratory.intrinsic+json": {
              "type": "string"
            }
          },
          "metadata": {},
          "execution_count": 26
        }
      ]
    },
    {
      "cell_type": "code",
      "source": [
        "print('\\n'.join(names))"
      ],
      "metadata": {
        "colab": {
          "base_uri": "https://localhost:8080/"
        },
        "id": "vsqSfhkNLr46",
        "outputId": "19cdaba6-efc5-4e92-ce38-709bcab412bd"
      },
      "execution_count": null,
      "outputs": [
        {
          "output_type": "stream",
          "name": "stdout",
          "text": [
            "Amy\n",
            "Carol\n",
            "Jenifer\n",
            "Daniel\n"
          ]
        }
      ]
    },
    {
      "cell_type": "code",
      "source": [
        "# in case where commas in between elements of a list are missing\n",
        "# it will still join all elements without space because of Python's default string literal appending\n",
        "'$'.join(['a''b''c'])"
      ],
      "metadata": {
        "colab": {
          "base_uri": "https://localhost:8080/",
          "height": 35
        },
        "id": "xkV9-QC9L4u1",
        "outputId": "bd8f9184-f14f-4033-af6f-726db2052af3"
      },
      "execution_count": null,
      "outputs": [
        {
          "output_type": "execute_result",
          "data": {
            "text/plain": [
              "'abc'"
            ],
            "application/vnd.google.colaboratory.intrinsic+json": {
              "type": "string"
            }
          },
          "metadata": {},
          "execution_count": 28
        }
      ]
    },
    {
      "cell_type": "code",
      "source": [
        "# in case you try to join anything other than strings\n",
        "try:\n",
        "  '-'.join(['a', 1, 3.5])\n",
        "except:\n",
        "  print('it won\\'t work!')"
      ],
      "metadata": {
        "colab": {
          "base_uri": "https://localhost:8080/"
        },
        "id": "SZSseo_BMXa3",
        "outputId": "aef44649-f1a3-45bc-afee-fd3bb5f36b18"
      },
      "execution_count": null,
      "outputs": [
        {
          "output_type": "stream",
          "name": "stdout",
          "text": [
            "it won't work!\n"
          ]
        }
      ]
    },
    {
      "cell_type": "markdown",
      "source": [
        "## Tuple\n",
        "\n",
        "A tuple is another useful container. Parentheses are optional when making tuples, and programmers frequently omit them if parentheses don't clarify the code.\n",
        "\n",
        "* Immutable (no add, no move, no sort)\n",
        "* Ordered\n",
        "* Most Common Usage: \n",
        "> * when you have two or more closely related values. e.g. latitude & longtitude\n",
        "> * when you assign multiple variables in a compact way (tuple unpacking)\n"
      ],
      "metadata": {
        "id": "90Y4n5GcPvbZ"
      }
    },
    {
      "cell_type": "code",
      "source": [
        "('a', 1)"
      ],
      "metadata": {
        "colab": {
          "base_uri": "https://localhost:8080/"
        },
        "id": "W9cZMJj0ASEw",
        "outputId": "ec0760ac-b726-4be5-84fb-3deb8a426116"
      },
      "execution_count": null,
      "outputs": [
        {
          "output_type": "execute_result",
          "data": {
            "text/plain": [
              "('a', 1)"
            ]
          },
          "metadata": {},
          "execution_count": 46
        }
      ]
    },
    {
      "cell_type": "code",
      "source": [
        "# it's ordered\n",
        "location = (13.4125, 103.866667)\n",
        "print('latitude:', location[0])\n",
        "print('longitude:', location[1])"
      ],
      "metadata": {
        "colab": {
          "base_uri": "https://localhost:8080/"
        },
        "id": "JfEATCENM_hU",
        "outputId": "61bb23ae-0157-4603-be95-a8291d5a8ad5"
      },
      "execution_count": null,
      "outputs": [
        {
          "output_type": "stream",
          "name": "stdout",
          "text": [
            "latitude: 13.4125\n",
            "longitude: 103.866667\n"
          ]
        }
      ]
    },
    {
      "cell_type": "code",
      "source": [
        "# immutable\n",
        "tuple_c = tuple_a # save 1,2 in tuple_c \n",
        "tuple_a = 3,4 # redefine tuple_a doesn't affect tuple_c\n",
        "tuple_c"
      ],
      "metadata": {
        "colab": {
          "base_uri": "https://localhost:8080/"
        },
        "id": "RJH_Kakd5Xrq",
        "outputId": "db297800-0868-4b52-fb0d-4f84777520dc"
      },
      "execution_count": null,
      "outputs": [
        {
          "output_type": "execute_result",
          "data": {
            "text/plain": [
              "(1, 2)"
            ]
          },
          "metadata": {},
          "execution_count": 34
        }
      ]
    },
    {
      "cell_type": "code",
      "source": [
        "try:\n",
        "  tuple_c[1] = 4\n",
        "except:\n",
        "  print('Tuple is immutable. It can be modified after it is defined.')"
      ],
      "metadata": {
        "colab": {
          "base_uri": "https://localhost:8080/"
        },
        "id": "vJEMW83x6uu8",
        "outputId": "16a86a92-f2a7-40c9-b9ff-da5d700de02e"
      },
      "execution_count": null,
      "outputs": [
        {
          "output_type": "stream",
          "name": "stdout",
          "text": [
            "Tuple is immutable. It can be modified after it is defined.\n"
          ]
        }
      ]
    },
    {
      "cell_type": "code",
      "source": [
        "dimensions = 30, 20, 50\n",
        "# tuple unpacking\n",
        "length, width, height = dimensions\n",
        "\n",
        "print('The dimention is {} x {} x {}'.format(length, width, height))"
      ],
      "metadata": {
        "id": "pGBTk6-BQQ6w",
        "colab": {
          "base_uri": "https://localhost:8080/"
        },
        "outputId": "02784756-df6b-4085-c226-bbb3f33d2c07"
      },
      "execution_count": null,
      "outputs": [
        {
          "output_type": "stream",
          "name": "stdout",
          "text": [
            "The dimention is 30x20x50\n"
          ]
        }
      ]
    },
    {
      "cell_type": "code",
      "source": [
        "# Parentheses are optional when making tuples\n",
        "tuple_a = 1, 2\n",
        "tuple_b = (1, 2)\n",
        "\n",
        "print(tuple_a == tuple_b)\n",
        "print(tuple_a[1])"
      ],
      "metadata": {
        "colab": {
          "base_uri": "https://localhost:8080/"
        },
        "id": "UjYLFUom4dK_",
        "outputId": "96a1a0ea-6fe4-4843-b86d-ae8cf0de1adb"
      },
      "execution_count": null,
      "outputs": [
        {
          "output_type": "stream",
          "name": "stdout",
          "text": [
            "True\n",
            "2\n"
          ]
        }
      ]
    },
    {
      "cell_type": "markdown",
      "source": [
        "## Sets\n",
        "\n",
        "* unique element (it removes duplicates)\n",
        "* mutable (add, pop)\n",
        "* unordered (ordering is inconsistent)"
      ],
      "metadata": {
        "id": "ZkcrMMq25Dp1"
      }
    },
    {
      "cell_type": "code",
      "source": [
        "set_a = {1,2,3,4,5}\n",
        "set_b = set_a\n",
        "set_a = {'a', 'b', 'c'}\n",
        "set_b"
      ],
      "metadata": {
        "colab": {
          "base_uri": "https://localhost:8080/"
        },
        "id": "WkQOAuwP4xjZ",
        "outputId": "5ce6c693-565f-419a-e88f-8f3c2bf31991"
      },
      "execution_count": null,
      "outputs": [
        {
          "output_type": "execute_result",
          "data": {
            "text/plain": [
              "{1, 2, 3, 4, 5}"
            ]
          },
          "metadata": {},
          "execution_count": 35
        }
      ]
    },
    {
      "cell_type": "code",
      "source": [
        "# add element\n",
        "set_a.add('d')"
      ],
      "metadata": {
        "id": "ERfStfHR6EzU"
      },
      "execution_count": null,
      "outputs": []
    },
    {
      "cell_type": "code",
      "source": [
        "# pop method for set removes a random value because sets are unordered, so there is no last value.\n",
        "# one for list removes the last value\n",
        "set_1 = {'ace', 'ventura', 'jim'}\n",
        "set_1.pop()"
      ],
      "metadata": {
        "colab": {
          "base_uri": "https://localhost:8080/",
          "height": 35
        },
        "id": "GW_kog-c7Y0p",
        "outputId": "db023641-b4fe-4003-ad75-9e60d28c7e3d"
      },
      "execution_count": null,
      "outputs": [
        {
          "output_type": "execute_result",
          "data": {
            "text/plain": [
              "'ace'"
            ],
            "application/vnd.google.colaboratory.intrinsic+json": {
              "type": "string"
            }
          },
          "metadata": {},
          "execution_count": 42
        }
      ]
    },
    {
      "cell_type": "code",
      "source": [
        "print('carrey' in set_1)\n",
        "\n",
        "set_1.add('carrey')"
      ],
      "metadata": {
        "colab": {
          "base_uri": "https://localhost:8080/"
        },
        "id": "E7YsQdfS7Z9t",
        "outputId": "18a3b3d7-6ba7-47c6-a698-dcb96bca0909"
      },
      "execution_count": null,
      "outputs": [
        {
          "output_type": "stream",
          "name": "stdout",
          "text": [
            "False\n"
          ]
        }
      ]
    },
    {
      "cell_type": "code",
      "source": [
        "{1,2,'A'}"
      ],
      "metadata": {
        "colab": {
          "base_uri": "https://localhost:8080/"
        },
        "id": "blY4S4I3ANWi",
        "outputId": "236036b0-3e42-4093-f0a4-d419cdc7ae72"
      },
      "execution_count": null,
      "outputs": [
        {
          "output_type": "execute_result",
          "data": {
            "text/plain": [
              "{1, 2, 'A'}"
            ]
          },
          "metadata": {},
          "execution_count": 45
        }
      ]
    },
    {
      "cell_type": "markdown",
      "source": [
        "The method like **union, intersection, difference** are easy to perform with sets and are much faster than such operators with other containers."
      ],
      "metadata": {
        "id": "9RgKXsYe862q"
      }
    },
    {
      "cell_type": "markdown",
      "source": [
        "## Dictioneries\n",
        "\n",
        "* Mutable\n",
        "* Not sortable\n",
        "* Unordered (ordering is inconsistent)\n",
        "* Store mappings of unique key to values\n",
        "* Dictionary keys must be immutable, that is, they must be of a type that is not modifiable, so it can be str, list, int, and float.\n",
        "* In Python, any immutable object (such as an integer, boolean, string, tuple) is hashable, meaning its value does not change during its lifetime. This allows Python to create a unique hash value to identify it, which can be used by dictionaries to track unique keys and sets to track unique values. This is why Python requires us to use immutable datatypes for the keys in a dictionary."
      ],
      "metadata": {
        "id": "o_5KEPno_t1e"
      }
    },
    {
      "cell_type": "code",
      "source": [
        "# every key doesn't have to have the data type\n",
        "dict = {'a':[1,2,4], 1:['a', '#'], (2,4):['h','i']}\n",
        "dict['a'][0]"
      ],
      "metadata": {
        "colab": {
          "base_uri": "https://localhost:8080/"
        },
        "id": "sEUsH3oc81bN",
        "outputId": "3d2ffdab-2889-46a9-d52a-d05d6d97e1f4"
      },
      "execution_count": null,
      "outputs": [
        {
          "output_type": "execute_result",
          "data": {
            "text/plain": [
              "1"
            ]
          },
          "metadata": {},
          "execution_count": 65
        }
      ]
    },
    {
      "cell_type": "code",
      "source": [
        "dict[(2,4)]"
      ],
      "metadata": {
        "colab": {
          "base_uri": "https://localhost:8080/"
        },
        "id": "mdk3DCozkT81",
        "outputId": "88d4d072-6cd3-423b-a0dd-491c412d62fe"
      },
      "execution_count": null,
      "outputs": [
        {
          "output_type": "execute_result",
          "data": {
            "text/plain": [
              "['h', 'i']"
            ]
          },
          "metadata": {},
          "execution_count": 66
        }
      ]
    },
    {
      "cell_type": "markdown",
      "source": [
        "The tuple can be key!"
      ],
      "metadata": {
        "id": "9zqA1Gp1kYLG"
      }
    },
    {
      "cell_type": "code",
      "source": [
        "country_code = {'UK':44, 'US': 1, 'South Korea': 82}\n",
        "'US' in country_code"
      ],
      "metadata": {
        "colab": {
          "base_uri": "https://localhost:8080/"
        },
        "id": "exTcws5GAaRU",
        "outputId": "a99e2ebb-e3e3-4c70-877b-36cfc8e2e9c7"
      },
      "execution_count": null,
      "outputs": [
        {
          "output_type": "execute_result",
          "data": {
            "text/plain": [
              "True"
            ]
          },
          "metadata": {},
          "execution_count": 48
        }
      ]
    },
    {
      "cell_type": "code",
      "source": [
        "# get the value mapped to 'US'\n",
        "print(country_code.get('US'))\n",
        "print(country_code['US'])"
      ],
      "metadata": {
        "colab": {
          "base_uri": "https://localhost:8080/"
        },
        "id": "Vtvtvi6aA0Oi",
        "outputId": "0630d2d9-2d44-455f-89c2-2e629a4594f3"
      },
      "execution_count": null,
      "outputs": [
        {
          "output_type": "stream",
          "name": "stdout",
          "text": [
            "1\n",
            "1\n"
          ]
        }
      ]
    },
    {
      "cell_type": "code",
      "source": [
        "# when there is no such key\n",
        "print(country_code.get('USD'))"
      ],
      "metadata": {
        "colab": {
          "base_uri": "https://localhost:8080/"
        },
        "id": "YBe22X2lA-G5",
        "outputId": "333a8cd4-0e50-4efa-b657-2f6be2aef7a2"
      },
      "execution_count": null,
      "outputs": [
        {
          "output_type": "stream",
          "name": "stdout",
          "text": [
            "None\n"
          ]
        }
      ]
    },
    {
      "cell_type": "code",
      "source": [
        "try:\n",
        "  country_code['USD']\n",
        "except:\n",
        "  print('Normal square bracket lookup will return error when there is no key you are looking for.')"
      ],
      "metadata": {
        "colab": {
          "base_uri": "https://localhost:8080/"
        },
        "id": "YWvumTFcBYgv",
        "outputId": "d2638980-d960-46c1-a1e0-ced99b74cb64"
      },
      "execution_count": null,
      "outputs": [
        {
          "output_type": "stream",
          "name": "stdout",
          "text": [
            "Normal square bracket lookup will return error when there is no key you are looking for.\n"
          ]
        }
      ]
    },
    {
      "cell_type": "markdown",
      "source": [
        "If you expect lookups to sometimes fail, *get* might be a better tool than normal square bracket lookups because errors can crash your program."
      ],
      "metadata": {
        "id": "iYtYA0RhCJZf"
      }
    },
    {
      "cell_type": "markdown",
      "source": [
        "**Identity Operators**\n",
        "\n",
        "* is : evaluates if both sides have the same identity.\n",
        "* is not : evaluates if both sides have different identities."
      ],
      "metadata": {
        "id": "jCVz5m4NCZGv"
      }
    },
    {
      "cell_type": "code",
      "source": [
        "n = country_code.get('USD')\n",
        "n is None"
      ],
      "metadata": {
        "colab": {
          "base_uri": "https://localhost:8080/"
        },
        "id": "zs7n8_MxBr-h",
        "outputId": "407b8531-5377-431f-9b86-720b9eca2254"
      },
      "execution_count": null,
      "outputs": [
        {
          "output_type": "execute_result",
          "data": {
            "text/plain": [
              "True"
            ]
          },
          "metadata": {},
          "execution_count": 58
        }
      ]
    },
    {
      "cell_type": "code",
      "source": [
        "n is not None"
      ],
      "metadata": {
        "colab": {
          "base_uri": "https://localhost:8080/"
        },
        "id": "bN3CH722Cu4Z",
        "outputId": "73af7da9-16db-4a2f-ae91-5ff327c61304"
      },
      "execution_count": null,
      "outputs": [
        {
          "output_type": "execute_result",
          "data": {
            "text/plain": [
              "False"
            ]
          },
          "metadata": {},
          "execution_count": 59
        }
      ]
    },
    {
      "cell_type": "markdown",
      "source": [
        "**Indentiy Operatiors VS Comparsion Operator**\n",
        "\n",
        "> Equal VS Identical"
      ],
      "metadata": {
        "id": "0r5Kg1MQETeQ"
      }
    },
    {
      "cell_type": "code",
      "source": [
        "# Test the code here if you'd like\n",
        "a = [1, 2, 3]\n",
        "b = a  # a and b are identical\n",
        "c = [1, 2, 3] # a, b and c are equal (having the same content), but not identical\n",
        "\n",
        "print(a == b) # equality test\n",
        "print(a is b) # identity test\n",
        "print(a == c) # equality test\n",
        "print(a is c) # identity test"
      ],
      "metadata": {
        "colab": {
          "base_uri": "https://localhost:8080/"
        },
        "id": "4bN4k-DICxl0",
        "outputId": "ac01395c-0bfa-49ba-c40f-62d612f61010"
      },
      "execution_count": null,
      "outputs": [
        {
          "output_type": "stream",
          "name": "stdout",
          "text": [
            "True\n",
            "True\n",
            "True\n",
            "False\n"
          ]
        }
      ]
    },
    {
      "cell_type": "markdown",
      "source": [
        "List a and list b are equal and identical. List c is equal to a (and b for that matter) since they have the same contents. But a and c (and b for that matter, again) point to two different objects, i.e., they aren't identical objects. That is the difference between checking for equality vs. identity."
      ],
      "metadata": {
        "id": "LljySBz-EQSg"
      }
    },
    {
      "cell_type": "code",
      "source": [
        "dana = [33, 'South Korean', 'Female']\n",
        "hana = [33, 'South Korean', 'Female']\n",
        "\n",
        "print(dana == hana) # the same elements\n",
        "print(dana is hana) # not identical"
      ],
      "metadata": {
        "colab": {
          "base_uri": "https://localhost:8080/"
        },
        "id": "pQBsvpkiFFmW",
        "outputId": "eac1782c-2569-4350-d56a-041921ea4c6d"
      },
      "execution_count": null,
      "outputs": [
        {
          "output_type": "stream",
          "name": "stdout",
          "text": [
            "True\n",
            "False\n"
          ]
        }
      ]
    },
    {
      "cell_type": "markdown",
      "source": [
        "# Compound Data Structure\n",
        "\n",
        "We can include containers in other containers to creat compound data structure"
      ],
      "metadata": {
        "id": "v6ztxkPGnWHR"
      }
    },
    {
      "cell_type": "code",
      "source": [
        "# compound dictionary\n",
        "elements = {'hydrogen': {'number':1,\n",
        "                         'weight': 1.00794,\n",
        "                         'symbol': 'H'},\n",
        "           \"helium\": {\"number\": 2,\n",
        "                      \"weight\": 4.002602,\n",
        "                      \"symbol\": \"He\"}}"
      ],
      "metadata": {
        "id": "uJuwul1yF0Gy"
      },
      "execution_count": null,
      "outputs": []
    },
    {
      "cell_type": "code",
      "source": [
        "# access the element\n",
        "elements['helium']['weight']"
      ],
      "metadata": {
        "colab": {
          "base_uri": "https://localhost:8080/"
        },
        "id": "CjBAgNSgn5Pa",
        "outputId": "eb3c2489-83d0-41e6-a809-584725a2ec47"
      },
      "execution_count": null,
      "outputs": [
        {
          "output_type": "execute_result",
          "data": {
            "text/plain": [
              "4.002602"
            ]
          },
          "metadata": {},
          "execution_count": 68
        }
      ]
    },
    {
      "cell_type": "code",
      "source": [
        "elements.get('helium').get('weight')"
      ],
      "metadata": {
        "colab": {
          "base_uri": "https://localhost:8080/"
        },
        "id": "gJxCCeTboNhy",
        "outputId": "526de908-986e-47e0-e6f2-ca5ffe5b63f0"
      },
      "execution_count": null,
      "outputs": [
        {
          "output_type": "execute_result",
          "data": {
            "text/plain": [
              "4.002602"
            ]
          },
          "metadata": {},
          "execution_count": 69
        }
      ]
    },
    {
      "cell_type": "code",
      "source": [
        "# add a new key to the element dictionary\n",
        "oxygen = {'number':8, 'weight':15.999, 'symbol': 'O'}\n",
        "elements['oxygen'] = oxygen\n",
        "elements"
      ],
      "metadata": {
        "colab": {
          "base_uri": "https://localhost:8080/"
        },
        "id": "BZrNxUwkoS7F",
        "outputId": "c5690622-627b-40dc-d235-30a41eba8c64"
      },
      "execution_count": null,
      "outputs": [
        {
          "output_type": "execute_result",
          "data": {
            "text/plain": [
              "{'hydrogen': {'number': 1, 'weight': 1.00794, 'symbol': 'H'},\n",
              " 'helium': {'number': 2, 'weight': 4.002602, 'symbol': 'He'},\n",
              " 'oxygen': {'number': 8, 'weight': 15.999, 'symbol': 'O'}}"
            ]
          },
          "metadata": {},
          "execution_count": 71
        }
      ]
    },
    {
      "cell_type": "code",
      "source": [
        "# todo: Add an 'is_noble_gas' entry to the hydrogen and helium dictionaries\n",
        "# hint: helium is a noble gas, hydrogen isn't\n",
        "elements['hydrogen']['is_noble_gas'] = False\n",
        "elements['helium']['is_noble_gas'] = True"
      ],
      "metadata": {
        "id": "0QpUtvloor9z"
      },
      "execution_count": null,
      "outputs": []
    },
    {
      "cell_type": "code",
      "source": [
        "elements"
      ],
      "metadata": {
        "colab": {
          "base_uri": "https://localhost:8080/"
        },
        "id": "lKSwMiwBpcvM",
        "outputId": "34c320eb-4a4f-4ca5-d5aa-797927f409fd"
      },
      "execution_count": null,
      "outputs": [
        {
          "output_type": "execute_result",
          "data": {
            "text/plain": [
              "{'hydrogen': {'number': 1,\n",
              "  'weight': 1.00794,\n",
              "  'symbol': 'H',\n",
              "  'is_noble_gas': False},\n",
              " 'helium': {'number': 2,\n",
              "  'weight': 4.002602,\n",
              "  'symbol': 'He',\n",
              "  'is_noble_gas': True},\n",
              " 'oxygen': {'number': 8, 'weight': 15.999, 'symbol': 'O'}}"
            ]
          },
          "metadata": {},
          "execution_count": 74
        }
      ]
    },
    {
      "cell_type": "markdown",
      "source": [
        "# Recap\n",
        "\n",
        "Data Structure | Ordered | Mutable | Constructor | Example\n",
        "- | - | - | - | - |\n",
        "List | Yes | Yes | list() or [ ] | [5.7, 4, 'yes', 5.7]\n",
        "Tuple | Yes | No | tuple() or ( ) | (5.7, 4, 'yes', 5.7)\n",
        "Set | No | Yes | set() or { }* | {5.7, 4, 'yes', 5.7}\n",
        "Dictionary | No | No** | dict() or { } | {'Jun': 75, 'Jul: 89}\n",
        "\n",
        "\\*you can use curly braces to define a set like this: {1,2,3}. However, if you leave the curly braces empty like this: {}, Python will isntead create an empty dictionary. So as to create an empty set, use set()\n",
        "<br> \\**A dictionary itself is mutable, but each of its individual keys must be immutable."
      ],
      "metadata": {
        "id": "dKmHI3Ntsppr"
      }
    }
  ]
}