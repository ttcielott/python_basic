{
  "nbformat": 4,
  "nbformat_minor": 0,
  "metadata": {
    "colab": {
      "provenance": [],
      "toc_visible": true,
      "authorship_tag": "ABX9TyP6R/VTtccIxXiGrFo0aFzS",
      "include_colab_link": true
    },
    "kernelspec": {
      "name": "python3",
      "display_name": "Python 3"
    },
    "language_info": {
      "name": "python"
    }
  },
  "cells": [
    {
      "cell_type": "markdown",
      "metadata": {
        "id": "view-in-github",
        "colab_type": "text"
      },
      "source": [
        "<a href=\"https://colab.research.google.com/github/ttcielott/python_basic/blob/main/python_function.ipynb\" target=\"_parent\"><img src=\"https://colab.research.google.com/assets/colab-badge.svg\" alt=\"Open In Colab\"/></a>"
      ]
    },
    {
      "cell_type": "markdown",
      "source": [
        "# How to Create A Function"
      ],
      "metadata": {
        "id": "33GTJEAJh5qC"
      }
    },
    {
      "cell_type": "code",
      "execution_count": 1,
      "metadata": {
        "id": "ULZel9YYh0V4"
      },
      "outputs": [],
      "source": [
        "# create a function that calculates cylinder volume\n",
        "def cylinder_volume(height, radius):\n",
        "  pi = 3.14159 # local variable: it can be only used within this function\n",
        "  return height * radius **2 * pi"
      ]
    },
    {
      "cell_type": "code",
      "source": [
        "# call the function\n",
        "cylinder_volume(10, 2)"
      ],
      "metadata": {
        "colab": {
          "base_uri": "https://localhost:8080/"
        },
        "id": "5Xt58riviVKU",
        "outputId": "b0401109-94ed-4bd8-a287-999a89814938"
      },
      "execution_count": 2,
      "outputs": [
        {
          "output_type": "execute_result",
          "data": {
            "text/plain": [
              "125.6636"
            ]
          },
          "metadata": {},
          "execution_count": 2
        }
      ]
    },
    {
      "cell_type": "code",
      "source": [
        "# a function without arguments\n",
        "def print_hello():\n",
        "  print('Hello')"
      ],
      "metadata": {
        "id": "wI2ilut2iMYD"
      },
      "execution_count": 3,
      "outputs": []
    },
    {
      "cell_type": "code",
      "source": [
        "# call the function\n",
        "print_hello()"
      ],
      "metadata": {
        "colab": {
          "base_uri": "https://localhost:8080/"
        },
        "id": "2KY-Aq1hiSSF",
        "outputId": "0d2e38f4-9664-4020-cc61-3a5f210b4266"
      },
      "execution_count": 4,
      "outputs": [
        {
          "output_type": "stream",
          "name": "stdout",
          "text": [
            "Hello\n"
          ]
        }
      ]
    },
    {
      "cell_type": "markdown",
      "source": [
        "## Return or No Return"
      ],
      "metadata": {
        "id": "Tt7mhkbNi3sj"
      }
    },
    {
      "cell_type": "code",
      "source": [
        "# function like print won't return value\n",
        "return_value = print('Hi')\n",
        "\n",
        "print('output: ', return_value)"
      ],
      "metadata": {
        "colab": {
          "base_uri": "https://localhost:8080/"
        },
        "id": "-Vlji67qiUYB",
        "outputId": "729ba105-8cb1-40ba-ae26-c1a5a2e60b43"
      },
      "execution_count": 5,
      "outputs": [
        {
          "output_type": "stream",
          "name": "stdout",
          "text": [
            "Hi\n",
            "output:  None\n"
          ]
        }
      ]
    },
    {
      "cell_type": "markdown",
      "source": [
        "None will be the output when a function is designed to return nothing. (but still it is a valid function.)\n",
        "<br>\n",
        "\n",
        "* print: puts output on a console\n",
        "* return: provides value you can store and work with the code later\n",
        "\n",
        "**If there is no return statement, the function simply returns None.**"
      ],
      "metadata": {
        "id": "ICGmSn06jMmR"
      }
    },
    {
      "cell_type": "markdown",
      "source": [
        "## Naming Conventions for Functions\n",
        "Function names follow the same naming conventions as variables.\n",
        "\n",
        "1. Only use ordinary letters, numbers and underscores in your function names. They can’t have spaces, and need to start with a letter or underscore.\n",
        "2. You can’t use Python's reserved words or keywords for function names, as discussed earlier with variable names. Here again is that [table of Python's reserved words](https://docs.python.org/3/reference/lexical_analysis.html#keywords).\n",
        "3. Try to use descriptive names that can help readers understand what the function does.\n"
      ],
      "metadata": {
        "id": "KAD8H5C-ktdg"
      }
    },
    {
      "cell_type": "markdown",
      "source": [
        "## Add a default value to an argument "
      ],
      "metadata": {
        "id": "khfZNl_wlqUB"
      }
    },
    {
      "cell_type": "code",
      "source": [
        "# set a default radis as 5\n",
        "def cylinder_volume(height, radius = 5):\n",
        "  pi = 3.14159 # local variable: it can be only used within this function\n",
        "  return height * radius **2 * pi"
      ],
      "metadata": {
        "id": "y5D03nPGjJzn"
      },
      "execution_count": 6,
      "outputs": []
    },
    {
      "cell_type": "code",
      "source": [
        "# call the function\n",
        "print(cylinder_volume(10,5))\n",
        "print(cylinder_volume(10))\n",
        "\n",
        "# These two will show the same output"
      ],
      "metadata": {
        "colab": {
          "base_uri": "https://localhost:8080/"
        },
        "id": "hJICiSayl3zx",
        "outputId": "ba1ddce2-0137-413b-b167-8b909273c134"
      },
      "execution_count": 7,
      "outputs": [
        {
          "output_type": "stream",
          "name": "stdout",
          "text": [
            "785.3974999999999\n",
            "785.3974999999999\n"
          ]
        }
      ]
    },
    {
      "cell_type": "code",
      "source": [
        "# can overwrite the default value like this\n",
        "print(cylinder_volume(10,7))"
      ],
      "metadata": {
        "colab": {
          "base_uri": "https://localhost:8080/"
        },
        "id": "SZSIbGkfmAn9",
        "outputId": "a108dc88-04e1-4ca7-b04b-f56f3639d093"
      },
      "execution_count": 8,
      "outputs": [
        {
          "output_type": "stream",
          "name": "stdout",
          "text": [
            "1539.3790999999999\n"
          ]
        }
      ]
    },
    {
      "cell_type": "markdown",
      "source": [
        "# Variable Scope"
      ],
      "metadata": {
        "id": "jGw1zQqYsP56"
      }
    },
    {
      "cell_type": "code",
      "source": [
        "# when a variable created inside a fucntion\n",
        "def lol():\n",
        "  word = 'haha'\n",
        "\n",
        "print(word)"
      ],
      "metadata": {
        "colab": {
          "base_uri": "https://localhost:8080/",
          "height": 210
        },
        "id": "odixmYQamHsV",
        "outputId": "d294e627-0e6e-4f8e-d57c-bcf2d2115ee0"
      },
      "execution_count": 9,
      "outputs": [
        {
          "output_type": "error",
          "ename": "NameError",
          "evalue": "ignored",
          "traceback": [
            "\u001b[0;31m---------------------------------------------------------------------------\u001b[0m",
            "\u001b[0;31mNameError\u001b[0m                                 Traceback (most recent call last)",
            "\u001b[0;32m<ipython-input-9-ae0e352ae1ea>\u001b[0m in \u001b[0;36m<module>\u001b[0;34m\u001b[0m\n\u001b[1;32m      3\u001b[0m   \u001b[0mword\u001b[0m \u001b[0;34m=\u001b[0m \u001b[0;34m'haha'\u001b[0m\u001b[0;34m\u001b[0m\u001b[0;34m\u001b[0m\u001b[0m\n\u001b[1;32m      4\u001b[0m \u001b[0;34m\u001b[0m\u001b[0m\n\u001b[0;32m----> 5\u001b[0;31m \u001b[0mprint\u001b[0m\u001b[0;34m(\u001b[0m\u001b[0mword\u001b[0m\u001b[0;34m)\u001b[0m\u001b[0;34m\u001b[0m\u001b[0;34m\u001b[0m\u001b[0m\n\u001b[0m",
            "\u001b[0;31mNameError\u001b[0m: name 'word' is not defined"
          ]
        }
      ]
    },
    {
      "cell_type": "markdown",
      "source": [
        "The variable, word is said that have scope that is only **local** to each function. \n",
        "<br>\n",
        "This mean you can use the same name, 'word' in the different function "
      ],
      "metadata": {
        "id": "T3304JG5tlYz"
      }
    },
    {
      "cell_type": "code",
      "source": [
        "# make a new variable called 'word' again in a different function\n",
        "\n",
        "def laughter():\n",
        "  word = 'wahaha'\n",
        "  return word\n",
        "\n",
        "# call function\n",
        "print(laughter())"
      ],
      "metadata": {
        "colab": {
          "base_uri": "https://localhost:8080/"
        },
        "id": "dgazq0owtdGH",
        "outputId": "4b2560b3-aed8-483f-8f0b-352599f320c3"
      },
      "execution_count": 10,
      "outputs": [
        {
          "output_type": "stream",
          "name": "stdout",
          "text": [
            "wahaha\n"
          ]
        }
      ]
    },
    {
      "cell_type": "code",
      "source": [
        "# what is a variable that is said to have a global scope\n",
        "word = 'hehe' # global scope\n",
        "\n",
        "def laughter():\n",
        "  word = 'wahaha' # local scope\n",
        "  return word\n",
        "\n",
        "# call function\n",
        "print(laughter())\n",
        "print(word) # print one in global scope"
      ],
      "metadata": {
        "colab": {
          "base_uri": "https://localhost:8080/"
        },
        "id": "PcAccoQ5uLUW",
        "outputId": "f79a0b1e-0ff7-46cc-c497-b300ef680dad"
      },
      "execution_count": 11,
      "outputs": [
        {
          "output_type": "stream",
          "name": "stdout",
          "text": [
            "wahaha\n",
            "hehe\n"
          ]
        }
      ]
    },
    {
      "cell_type": "markdown",
      "source": [
        "**Good practice**: It is best to define variables in the smallest scope they will be needed in. While functions can refer to variables defined in a larger scope, this is very rarely a good idea since you may not know what variables you have defined if your program has a lot of variables."
      ],
      "metadata": {
        "id": "rJMS13KmvPBt"
      }
    },
    {
      "cell_type": "code",
      "source": [
        "egg_count = 0\n",
        "\n",
        "def buy_eggs():\n",
        "  egg_count += 12 # purchase a dozen eggs\n"
      ],
      "metadata": {
        "id": "m20vqGJZu6Zy"
      },
      "execution_count": 12,
      "outputs": []
    },
    {
      "cell_type": "markdown",
      "source": [
        "What will be the output of buy_eggs()?\n",
        "\n",
        "> It will shows an error message. \n",
        "<br>\n",
        "<br> This causes an **UnboundLocalError**, since **Python doesn't allow functions to modify variables that are outside the function's scope.** A better way would be to pass the variable as an argument and reassign it outside the function. See more on this in the next page.\n"
      ],
      "metadata": {
        "id": "rNkNo7ZG55K2"
      }
    },
    {
      "cell_type": "code",
      "source": [
        "# to make it work, pass the variable of global scope as an argument into the function\n",
        "egg_count = 0\n",
        "\n",
        "def buy_eggs(count):\n",
        "  return count + 12 # purchase a dozen eggs\n",
        "  # 'count += 12' won't work here.\n",
        "\n",
        "buy_eggs(egg_count)"
      ],
      "metadata": {
        "colab": {
          "base_uri": "https://localhost:8080/"
        },
        "id": "Ag7jWTsp54o4",
        "outputId": "5c36ab4d-fb36-4fd1-dcdc-7bf48267d906"
      },
      "execution_count": 13,
      "outputs": [
        {
          "output_type": "execute_result",
          "data": {
            "text/plain": [
              "12"
            ]
          },
          "metadata": {},
          "execution_count": 13
        }
      ]
    },
    {
      "cell_type": "code",
      "source": [
        "# when this is no such variable within a local scope\n",
        "word = 'ah ha'\n",
        "\n",
        "def understanding():\n",
        "  print(word)\n",
        "\n",
        "understanding()"
      ],
      "metadata": {
        "colab": {
          "base_uri": "https://localhost:8080/"
        },
        "id": "GfgdL3KE63y1",
        "outputId": "7304019b-9832-479b-9015-928530b4435b"
      },
      "execution_count": 14,
      "outputs": [
        {
          "output_type": "stream",
          "name": "stdout",
          "text": [
            "ah ha\n"
          ]
        }
      ]
    },
    {
      "cell_type": "markdown",
      "source": [
        "The function will find the variable in global scope when it couldn't find one in local scope."
      ],
      "metadata": {
        "id": "8_SmkMMA8b3S"
      }
    },
    {
      "cell_type": "code",
      "source": [
        "# how about this?\n",
        "def print_fn():\n",
        "    str1 = 'Variable scope is an important concept.'\n",
        "    print(str1)\n",
        "\n",
        "print_fn(str1)"
      ],
      "metadata": {
        "colab": {
          "base_uri": "https://localhost:8080/",
          "height": 210
        },
        "id": "-tcgntaC8YUF",
        "outputId": "c0724d34-506e-4541-fe0b-9c216931a16c"
      },
      "execution_count": 15,
      "outputs": [
        {
          "output_type": "error",
          "ename": "NameError",
          "evalue": "ignored",
          "traceback": [
            "\u001b[0;31m---------------------------------------------------------------------------\u001b[0m",
            "\u001b[0;31mNameError\u001b[0m                                 Traceback (most recent call last)",
            "\u001b[0;32m<ipython-input-15-edbf94fa3944>\u001b[0m in \u001b[0;36m<module>\u001b[0;34m\u001b[0m\n\u001b[1;32m      4\u001b[0m     \u001b[0mprint\u001b[0m\u001b[0;34m(\u001b[0m\u001b[0mstr1\u001b[0m\u001b[0;34m)\u001b[0m\u001b[0;34m\u001b[0m\u001b[0;34m\u001b[0m\u001b[0m\n\u001b[1;32m      5\u001b[0m \u001b[0;34m\u001b[0m\u001b[0m\n\u001b[0;32m----> 6\u001b[0;31m \u001b[0mprint_fn\u001b[0m\u001b[0;34m(\u001b[0m\u001b[0mstr1\u001b[0m\u001b[0;34m)\u001b[0m\u001b[0;34m\u001b[0m\u001b[0;34m\u001b[0m\u001b[0m\n\u001b[0m",
            "\u001b[0;31mNameError\u001b[0m: name 'str1' is not defined"
          ]
        }
      ]
    },
    {
      "cell_type": "markdown",
      "source": [
        "# Documentation - Docstring\n",
        "\n",
        "A type of comment used to explain the purpose of a function and how it should be used.\n",
        "\n",
        "<br>\n",
        "Docstrings are surrounded by triple quotes.\n",
        "\n",
        "\n",
        "\n",
        "```\n",
        "def foo(arg1, arg2):\n",
        "    \"\"\"[a brief explanation of the function's purpose]\n",
        "    \n",
        "    INPUT:\n",
        "    arg1: datatype, the content of argument, anything to clarify\n",
        "    arg2: datatype, the content of argument, anything to clarify\n",
        "    \n",
        "    OUTPUT:\n",
        "    content of output\n",
        "    \"\"\"\n",
        "\n",
        "    [code] \n",
        "\n",
        "    return output\n",
        "```\n",
        "\n"
      ],
      "metadata": {
        "id": "iMripIzRF5dU"
      }
    },
    {
      "cell_type": "code",
      "source": [
        "# short version of docstring\n",
        "def population_density(population, land_area):\n",
        "  \"\"\"Calculate the population density of the area.\"\"\"\n",
        "\n",
        "  return population / land_are"
      ],
      "metadata": {
        "id": "V-GEyPYC8wib"
      },
      "execution_count": 17,
      "outputs": []
    },
    {
      "cell_type": "code",
      "source": [
        "# long version of docstring\n",
        "\n",
        "def population_density(population, land_area):\n",
        "    \"\"\"Calculate the population density of an area.\n",
        "\n",
        "    INPUT:\n",
        "    population: int. The population of that area\n",
        "    land_area: int or float. This function is unit-agnostic, if you pass in values in terms\n",
        "    of square km or square miles the function will return a density in those units.\n",
        "\n",
        "    OUTPUT: \n",
        "    population_density: population / land_area. The population density of a particular area.\n",
        "    \"\"\"\n",
        "    return population / land_area\n"
      ],
      "metadata": {
        "id": "9KjEhx33GqhO"
      },
      "execution_count": 18,
      "outputs": []
    },
    {
      "cell_type": "code",
      "source": [
        "help(population_density)"
      ],
      "metadata": {
        "colab": {
          "base_uri": "https://localhost:8080/"
        },
        "id": "jF851D7uHv15",
        "outputId": "e2f4a975-001c-4e4a-d6fb-44f340882661"
      },
      "execution_count": 19,
      "outputs": [
        {
          "output_type": "stream",
          "name": "stdout",
          "text": [
            "Help on function population_density in module __main__:\n",
            "\n",
            "population_density(population, land_area)\n",
            "    Calculate the population density of an area.\n",
            "    \n",
            "    INPUT:\n",
            "    population: int. The population of that area\n",
            "    land_area: int or float. This function is unit-agnostic, if you pass in values in terms\n",
            "    of square km or square miles the function will return a density in those units.\n",
            "    \n",
            "    OUTPUT: \n",
            "    population_density: population / land_area. The population density of a particular area.\n",
            "\n"
          ]
        }
      ]
    },
    {
      "cell_type": "code",
      "source": [
        "population_density.__doc__"
      ],
      "metadata": {
        "colab": {
          "base_uri": "https://localhost:8080/",
          "height": 72
        },
        "id": "l1uHIn4pH4Is",
        "outputId": "46a52839-162b-4bb7-fd68-0f200c041deb"
      },
      "execution_count": 20,
      "outputs": [
        {
          "output_type": "execute_result",
          "data": {
            "text/plain": [
              "'Calculate the population density of an area.\\n\\n    INPUT:\\n    population: int. The population of that area\\n    land_area: int or float. This function is unit-agnostic, if you pass in values in terms\\n    of square km or square miles the function will return a density in those units.\\n\\n    OUTPUT: \\n    population_density: population / land_area. The population density of a particular area.\\n    '"
            ],
            "application/vnd.google.colaboratory.intrinsic+json": {
              "type": "string"
            }
          },
          "metadata": {},
          "execution_count": 20
        }
      ]
    },
    {
      "cell_type": "markdown",
      "source": [
        "## Various style of docstring"
      ],
      "metadata": {
        "id": "V7KlPiE7JOnd"
      }
    },
    {
      "cell_type": "code",
      "source": [
        "def readable_timedelta(days):\n",
        "    \"\"\"Return a string of the number of weeks and days included in days.\n",
        "\n",
        "    Args:\n",
        "        days (int): number of days to convert\n",
        "    \"\"\"\n",
        "    weeks = days // 7\n",
        "    remainder = days % 7\n",
        "    return \"{} week(s) and {} day(s)\".format(weeks, remainder)"
      ],
      "metadata": {
        "id": "zxpGBKeUIAv0"
      },
      "execution_count": 21,
      "outputs": []
    },
    {
      "cell_type": "code",
      "source": [
        "def readable_timedelta(days):\n",
        "    \"\"\"\n",
        "    Return a string of the number of weeks and days included in days.\n",
        "\n",
        "    Parameters:\n",
        "    days -- number of days to convert (int)\n",
        "\n",
        "    Returns:\n",
        "    string of the number of weeks and days included in days\n",
        "    \"\"\"\n",
        "    weeks = days // 7\n",
        "    remainder = days % 7\n",
        "    return \"{} week(s) and {} day(s)\".format(weeks, remainder)\n"
      ],
      "metadata": {
        "id": "VPdZMUbBJSiT"
      },
      "execution_count": 22,
      "outputs": []
    },
    {
      "cell_type": "markdown",
      "source": [
        "# lamba: anonymous function, quick!\n",
        "* functions don't have a name\n",
        "* quick functions that aren't needed later in your code\n",
        "* usefule for higher order functions, or functions that take in other functions as arguments"
      ],
      "metadata": {
        "id": "gZlXppARQwlG"
      }
    },
    {
      "cell_type": "code",
      "source": [
        "def double(x):\n",
        "  return x*2\n",
        "\n",
        "# create the same function with lambda\n",
        "double = lambda x: x*2"
      ],
      "metadata": {
        "id": "EyzGcE9bQ2Cf"
      },
      "execution_count": 23,
      "outputs": []
    },
    {
      "cell_type": "markdown",
      "source": [
        "Lambda is very useful for short and simple function rather than long and complicated function."
      ],
      "metadata": {
        "id": "AUX3MvoPRO9Z"
      }
    },
    {
      "cell_type": "code",
      "source": [
        "# multiple arguments\n",
        "multiply = lambda x, y : x*y\n",
        "\n",
        "multiply(2,3)"
      ],
      "metadata": {
        "colab": {
          "base_uri": "https://localhost:8080/"
        },
        "id": "pzQsHX4lREYu",
        "outputId": "54d88473-2ad9-46ee-e9a4-dd9b6bcb7844"
      },
      "execution_count": 24,
      "outputs": [
        {
          "output_type": "execute_result",
          "data": {
            "text/plain": [
              "6"
            ]
          },
          "metadata": {},
          "execution_count": 24
        }
      ]
    },
    {
      "cell_type": "code",
      "source": [
        "# the way the arguments are named in a lambda expression is arbitrary.\n",
        "multiply = lambda a, b: a*b\n",
        "multiply = lambda A, B: A*B"
      ],
      "metadata": {
        "id": "u3Nb8E-URZsh"
      },
      "execution_count": 25,
      "outputs": []
    },
    {
      "cell_type": "code",
      "source": [
        "result = multiply(10,2)"
      ],
      "metadata": {
        "id": "kek7AbM1SIy7"
      },
      "execution_count": 26,
      "outputs": []
    },
    {
      "cell_type": "code",
      "source": [
        "result"
      ],
      "metadata": {
        "colab": {
          "base_uri": "https://localhost:8080/"
        },
        "id": "bkTHVAXUSRga",
        "outputId": "b959844a-02e7-4045-e8fc-507ee3829300"
      },
      "execution_count": 27,
      "outputs": [
        {
          "output_type": "execute_result",
          "data": {
            "text/plain": [
              "20"
            ]
          },
          "metadata": {},
          "execution_count": 27
        }
      ]
    },
    {
      "cell_type": "markdown",
      "source": [
        "# Yield"
      ],
      "metadata": {
        "id": "JQVGx__eVO2D"
      }
    },
    {
      "cell_type": "code",
      "source": [
        "def generator_func():\n",
        "  num = 1\n",
        "  print('First time execution of the fuction.')\n",
        "  yield num\n",
        "  \n",
        "  num = 10\n",
        "  print('Second time execution of the fuction.')\n",
        "  yield num\n",
        "\n",
        "  num = 100\n",
        "  print('Third time execution of the fuction.')\n",
        "  yield num"
      ],
      "metadata": {
        "id": "LjZjZXV_SSXj"
      },
      "execution_count": 28,
      "outputs": []
    },
    {
      "cell_type": "code",
      "source": [
        "obj = generator_func()\n",
        "print(next(obj))"
      ],
      "metadata": {
        "colab": {
          "base_uri": "https://localhost:8080/"
        },
        "id": "-d7duM4dVfzM",
        "outputId": "f5427e70-08a7-4526-9157-4470b3df3e10"
      },
      "execution_count": 29,
      "outputs": [
        {
          "output_type": "stream",
          "name": "stdout",
          "text": [
            "First time execution of the fuction.\n",
            "1\n"
          ]
        }
      ]
    },
    {
      "cell_type": "code",
      "source": [
        "print(next(obj))"
      ],
      "metadata": {
        "colab": {
          "base_uri": "https://localhost:8080/"
        },
        "id": "RdfGzeILVj27",
        "outputId": "799bf70f-e616-4e2a-9c97-6f547c1f6c92"
      },
      "execution_count": 30,
      "outputs": [
        {
          "output_type": "stream",
          "name": "stdout",
          "text": [
            "Second time execution of the fuction.\n",
            "10\n"
          ]
        }
      ]
    },
    {
      "cell_type": "code",
      "source": [
        "print(next(obj))"
      ],
      "metadata": {
        "colab": {
          "base_uri": "https://localhost:8080/"
        },
        "id": "txdAKBG9VnNB",
        "outputId": "154f78c7-f5f5-40f5-ff21-3e08347c2ec7"
      },
      "execution_count": 31,
      "outputs": [
        {
          "output_type": "stream",
          "name": "stdout",
          "text": [
            "Third time execution of the fuction.\n",
            "100\n"
          ]
        }
      ]
    },
    {
      "cell_type": "code",
      "source": [
        "print(next(obj)) # all the yield keywords are exhausted."
      ],
      "metadata": {
        "colab": {
          "base_uri": "https://localhost:8080/",
          "height": 173
        },
        "id": "C8qYba0XVojt",
        "outputId": "69adbf17-d738-4183-a505-675f72bb5ada"
      },
      "execution_count": 32,
      "outputs": [
        {
          "output_type": "error",
          "ename": "StopIteration",
          "evalue": "ignored",
          "traceback": [
            "\u001b[0;31m---------------------------------------------------------------------------\u001b[0m",
            "\u001b[0;31mStopIteration\u001b[0m                             Traceback (most recent call last)",
            "\u001b[0;32m<ipython-input-32-0700eaa4da20>\u001b[0m in \u001b[0;36m<module>\u001b[0;34m\u001b[0m\n\u001b[0;32m----> 1\u001b[0;31m \u001b[0mprint\u001b[0m\u001b[0;34m(\u001b[0m\u001b[0mnext\u001b[0m\u001b[0;34m(\u001b[0m\u001b[0mobj\u001b[0m\u001b[0;34m)\u001b[0m\u001b[0;34m)\u001b[0m \u001b[0;31m# all the yield keywords are exhausted.\u001b[0m\u001b[0;34m\u001b[0m\u001b[0;34m\u001b[0m\u001b[0m\n\u001b[0m",
            "\u001b[0;31mStopIteration\u001b[0m: "
          ]
        }
      ]
    }
  ]
}