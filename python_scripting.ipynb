{
  "nbformat": 4,
  "nbformat_minor": 0,
  "metadata": {
    "colab": {
      "provenance": [],
      "toc_visible": true,
      "authorship_tag": "ABX9TyPENtGTExhJhMWc1X9gNSr/",
      "include_colab_link": true
    },
    "kernelspec": {
      "name": "python3",
      "display_name": "Python 3"
    },
    "language_info": {
      "name": "python"
    }
  },
  "cells": [
    {
      "cell_type": "markdown",
      "metadata": {
        "id": "view-in-github",
        "colab_type": "text"
      },
      "source": [
        "<a href=\"https://colab.research.google.com/github/ttcielott/python_basic/blob/main/python_scripting.ipynb\" target=\"_parent\"><img src=\"https://colab.research.google.com/assets/colab-badge.svg\" alt=\"Open In Colab\"/></a>"
      ]
    },
    {
      "cell_type": "markdown",
      "source": [
        "# Scripting with Raw Input\n",
        "\n",
        "We can get a raw input from the user with the built-in function input, which takes in an optional string argument that you can use to specify a message to show to the user when asking for input."
      ],
      "metadata": {
        "id": "--8eka80_q10"
      }
    },
    {
      "cell_type": "code",
      "source": [
        "name = input(\"Enter your name: \")\n",
        "print(\"Hello there, {}!\".format(name.title()))i"
      ],
      "metadata": {
        "colab": {
          "base_uri": "https://localhost:8080/"
        },
        "id": "mENWDx_zAN-i",
        "outputId": "d3551ffd-2530-41b7-ec54-0de828784f34"
      },
      "execution_count": 1,
      "outputs": [
        {
          "output_type": "stream",
          "name": "stdout",
          "text": [
            "Enter your name: haneul\n",
            "Hello there, Haneul!\n"
          ]
        }
      ]
    },
    {
      "cell_type": "markdown",
      "source": [
        "This prompts the user to enter a name and then uses the input in a greeting. The input function takes in whatever the user types and stores it as a string. If you want to interpret their input as something other than a string, like an integer, as in the example below, you need to wrap the result with the new type to convert it from a string."
      ],
      "metadata": {
        "id": "VpwKnR44AYWg"
      }
    },
    {
      "cell_type": "code",
      "source": [
        "num = int(input(\"Enter an integer\"))\n",
        "print(\"hello\" * num)"
      ],
      "metadata": {
        "colab": {
          "base_uri": "https://localhost:8080/"
        },
        "id": "ZRqMbsdOAV8e",
        "outputId": "bd3e4810-fada-480d-e133-92aef2b030ea"
      },
      "execution_count": 2,
      "outputs": [
        {
          "output_type": "stream",
          "name": "stdout",
          "text": [
            "Enter an integer10\n",
            "hellohellohellohellohellohellohellohellohellohello\n"
          ]
        }
      ]
    },
    {
      "cell_type": "markdown",
      "source": [
        "**Quiz**: Generate Messages\n",
        "Imagine you're a teacher who needs to send a message to each of your students reminding them of their missing assignments and grade in the class. You have each of their names, number of missing assignments, and grades on a spreadsheet and just have to insert them into placeholders in this message you came up with:\n",
        "\n",
        "> Hi *\\[insert student name]*,\n",
        "<br><br> This is a reminder that you have *\\[insert number of missing assignments]* assignments left to submit before you can graduate. Your current grade is *\\[insert current grade]* and can increase to *\\[insert potential grade]* if you submit all assignments before the due date.\n",
        "\n",
        "You can just copy and paste this message to each student and manually insert the appropriate values each time, but instead you're going to write a program that does this for you.\n",
        "\n",
        "Write a script that does the following:\n",
        "\n",
        "1. Ask for user input 3 times. Once for a list of names, once for a list of missing assignment counts, and once for a list of grades. Use this input to create lists for names, assignments, and grades.\n",
        "2. Use a loop to print the message for each student with the correct values. The potential grade is simply the current grade added to two times the number of missing assignments.\n"
      ],
      "metadata": {
        "id": "rDRh8T1tAsgT"
      }
    },
    {
      "cell_type": "code",
      "execution_count": 3,
      "metadata": {
        "colab": {
          "base_uri": "https://localhost:8080/"
        },
        "id": "9XOCBKJF_l04",
        "outputId": "58108ac4-64ba-4a15-d24e-6ee672f8a395"
      },
      "outputs": [
        {
          "output_type": "stream",
          "name": "stdout",
          "text": [
            "Enter names separated by commas: julia, robert, carol\n",
            "Enter assignment counts separated by commas: 1, 1, 2\n",
            "Enter grades separated by commas: 90, 80, 40\n",
            "Hi Julia,\n",
            "\n",
            "This is a reminder that you have 1 assignments left to submit before you can graduate. You're current grade is 90 and can increase to 92.0 if you submit all assignments before the due date.\n",
            "\n",
            "\n",
            "Hi  Robert,\n",
            "\n",
            "This is a reminder that you have  1 assignments left to submit before you can graduate. You're current grade is  80 and can increase to 82.0 if you submit all assignments before the due date.\n",
            "\n",
            "\n",
            "Hi  Carol,\n",
            "\n",
            "This is a reminder that you have  2 assignments left to submit before you can graduate. You're current grade is  40 and can increase to 44.0 if you submit all assignments before the due date.\n",
            "\n",
            "\n"
          ]
        }
      ],
      "source": [
        "names = input('Enter names separated by commas: ').title().split(',')\n",
        "assignments = input('Enter assignment counts separated by commas: ').split(',') \n",
        "grades = input('Enter grades separated by commas: ').split(',')  \n",
        "\n",
        "# message string to be used for each student\n",
        "# HINT: use .format() with this string in your for loop\n",
        "message = \"Hi {},\\n\\nThis is a reminder that you have {} assignments left to \\\n",
        "submit before you can graduate. You're current grade is {} and can increase \\\n",
        "to {} if you submit all assignments before the due date.\\n\\n\"\n",
        "\n",
        "# write a for loop that iterates through each set of names, assignments, and grades\n",
        "for name, assignment, grade in zip(names, assignments, grades):\n",
        "    potential_grade = float(grade) + int(assignment)*2\n",
        "    print(message.format(name, assignment, grade, potential_grade))\n",
        "\n",
        "\n"
      ]
    },
    {
      "cell_type": "markdown",
      "source": [
        "# Errors & Exceptions\n",
        "\n",
        "* SyntaxError: it occurs when Python can't interpret our code. Usually it comes from type mistake.\n",
        "> Any SyntaxError can be detected before running your program.\n",
        "* Exception: it occurs when unexpected things happend during the execution of a code.\n",
        "> Any exception occurs during run time.\n",
        "> + ValueError: e.g. string argument was passed when a function requires a integer.\n",
        "> + NameError: e.g. when calling an undefined variable.\n",
        "> + TypeError: \n",
        "```\n",
        "geek = \"Geeks\"\n",
        "num = 4\n",
        "print(geek + num + geek)\n",
        "```\n",
        "> + KeyError: A key can't be found in a dictionary.\n",
        "> + IndexError: A sequence subscript is out of range. e.g. if you have a list with three items and you try to access the fourth item, you will get an IndexError. \n",
        "> + AssertionError: An assert statement fails.\n"
      ],
      "metadata": {
        "id": "ll95bDRkdCqd"
      }
    },
    {
      "cell_type": "markdown",
      "source": [
        "## How to Handle Errors"
      ],
      "metadata": {
        "id": "O8XTR9pvgXRi"
      }
    },
    {
      "cell_type": "code",
      "source": [
        "try:\n",
        "  x = int(input('Enter a number: '))\n",
        "except:\n",
        "  print('That\\'s not a valid number!')"
      ],
      "metadata": {
        "id": "Pqnqf2Jq_1T4",
        "colab": {
          "base_uri": "https://localhost:8080/"
        },
        "outputId": "9023c85c-0634-4859-a0d6-f8773490f11b"
      },
      "execution_count": 4,
      "outputs": [
        {
          "output_type": "stream",
          "name": "stdout",
          "text": [
            "Enter a number: e\n",
            "That's not a valid number!\n"
          ]
        }
      ]
    },
    {
      "cell_type": "markdown",
      "source": [
        "\n",
        "\n",
        "```\n",
        "# Let's make the code that keep asking until an user input the right data type\n",
        "while True:\n",
        "  try:\n",
        "    x = int(input('Enter a number: '))\n",
        "    \n",
        "  except:\n",
        "    print('That\\'s not a valid number!')\n",
        "\n",
        "  print('\\nAttempted Input\\n')\n",
        "```\n",
        "\n"
      ],
      "metadata": {
        "id": "G1CTWf8Qi12v"
      }
    },
    {
      "cell_type": "markdown",
      "source": [
        "The code above, keep asking input endlessly. \n",
        "\n",
        "Let's make the code end running when an user made right type of input by including **break**."
      ],
      "metadata": {
        "id": "VgOx_efFh8dB"
      }
    },
    {
      "cell_type": "code",
      "source": [
        "# Let's make the code that keep asking until an user input the right data type\n",
        "while True:\n",
        "  try:\n",
        "    x = int(input('Enter a number: '))\n",
        "    break\n",
        "  except:\n",
        "    print('That\\'s not a valid number!')\n",
        "\n",
        "  print('\\nAttempted Input\\n')"
      ],
      "metadata": {
        "colab": {
          "base_uri": "https://localhost:8080/"
        },
        "id": "0h93xuwyhqeT",
        "outputId": "32deaa23-e0a4-4012-814b-a3036d92993c"
      },
      "execution_count": 5,
      "outputs": [
        {
          "name": "stdout",
          "output_type": "stream",
          "text": [
            "Enter a number: f\n",
            "That's not a valid number!\n",
            "\n",
            "Attempted Input\n",
            "\n",
            "Enter a number: 10\n"
          ]
        }
      ]
    },
    {
      "cell_type": "code",
      "source": [
        "# let's make 'Attempted Input' always printed\n",
        "while True:\n",
        "  try:\n",
        "    x = int(input('Enter a number: '))\n",
        "    \n",
        "\n",
        "  except:\n",
        "    print('That\\'s not a valid number!')\n",
        "  \n",
        "  else: # python will run the code after running the try block and it didn't run into exceptions\n",
        "    print('Your input is {}.'.format(x))\n",
        "\n",
        "    break # in this case, move 'break' in the code of else statement\n",
        "\n",
        "  finally: # finally will be passed even when a program is exiting try statement.\n",
        "    print('\\nAttempted Input\\n')\n"
      ],
      "metadata": {
        "colab": {
          "base_uri": "https://localhost:8080/"
        },
        "id": "4wQ01hurh5Rn",
        "outputId": "a0ddf6d5-794e-4a68-bb0b-2c5591a12ae3"
      },
      "execution_count": 6,
      "outputs": [
        {
          "output_type": "stream",
          "name": "stdout",
          "text": [
            "Enter a number: en\n",
            "That's not a valid number!\n",
            "\n",
            "Attempted Input\n",
            "\n",
            "Enter a number: 10\n",
            "Your input is 10.\n",
            "\n",
            "Attempted Input\n",
            "\n"
          ]
        }
      ]
    },
    {
      "cell_type": "markdown",
      "source": [
        "+ try: This is the only mandatory clause in a try statement. The code in this block is the first thing that Python runs in a try statement.\n",
        "+except: If Python runs into an exception while running the try block, it will jump to the except block that handles that exception.\n",
        "+ else: If Python runs into no exceptions while running the try block, it will run the code in this block after running the try block.\n",
        "> make sure to include **break** in the code block of else statement instead of that of try statement. Otherwise, the code in else statement won't be run.\n",
        "+ finally: Before Python leaves this try statement, it will run the code in this finally block under any conditions, even if it's ending the program. E.g., if Python ran into an error while running code in the except or else block, this finally block will still be executed before stopping the program."
      ],
      "metadata": {
        "id": "1gExzQFql9cH"
      }
    },
    {
      "cell_type": "markdown",
      "source": [
        "## Handling Errors by Types of Errors"
      ],
      "metadata": {
        "id": "alyh92Vdxf50"
      }
    },
    {
      "cell_type": "markdown",
      "source": [
        "When we only handle ValueError:\n",
        "**except ValueError**"
      ],
      "metadata": {
        "id": "c1eNNSlLxtVy"
      }
    },
    {
      "cell_type": "code",
      "source": [
        "while True:\n",
        "  try:\n",
        "    x = int(input('Enter a number: '))\n",
        "    \n",
        "  except ValueError:\n",
        "    print('That\\'s not a valid number!')\n",
        "  \n",
        "  else: # python will run the code after running the try block and it didn't run into exceptions\n",
        "    print('Your input is {}.'.format(x))\n",
        "\n",
        "    break # in this case, move 'break' in the code of else statement\n",
        "\n",
        "  finally: # finally will be passed even when a program is exiting try statement.\n",
        "    print('\\nAttempted Input\\n')\n"
      ],
      "metadata": {
        "colab": {
          "base_uri": "https://localhost:8080/"
        },
        "id": "YNA3l1bIlmUO",
        "outputId": "acc7ccf6-bd3d-47fb-c483-1e527c909284"
      },
      "execution_count": 7,
      "outputs": [
        {
          "output_type": "stream",
          "name": "stdout",
          "text": [
            "Enter a number: ef\n",
            "That's not a valid number!\n",
            "\n",
            "Attempted Input\n",
            "\n",
            "Enter a number: 10\n",
            "Your input is 10.\n",
            "\n",
            "Attempted Input\n",
            "\n"
          ]
        }
      ]
    },
    {
      "cell_type": "markdown",
      "source": [
        "When we want this handler to address more than one type of exception: \n",
        "\n",
        "*KeyboardInterrupt*: it occurs when entering 'ctrl + c' which is short key to end the program. \n",
        "<br>(funnily enough, during the KeyboardInterrupt error, **finally code block is still executed.**) \n",
        "\n",
        "```\n",
        "except (ValueError, KeyboardInterrupt): \n",
        "```\n",
        "OR\n",
        "\n",
        "have two handlers\n",
        "\n",
        "```\n",
        "except ValueError:\n",
        "    [code]\n",
        "except KeyboardInterrupt:\n",
        "    [code]\n",
        "    break\n",
        "```\n",
        "\n"
      ],
      "metadata": {
        "id": "60og7i3-yXYo"
      }
    },
    {
      "cell_type": "code",
      "source": [
        "while True:\n",
        "  try:\n",
        "    x = int(input('Enter a number: '))\n",
        "    \n",
        "  except ValueError:\n",
        "    print('That\\'s not a valid number!')\n",
        "  \n",
        "  except KeyboardInterrupt:\n",
        "    print('\\nNo input taken')\n",
        "    break\n",
        "\n",
        "  else: # python will run the code after running the try block and it didn't run into exceptions\n",
        "    print('Your input is {}.'.format(x))\n",
        "\n",
        "    break # in this case, move 'break' in the code of else statement\n",
        "\n",
        "  finally: # finally will be passed even when a program is exiting try statement.\n",
        "    print('\\nAttempted Input\\n')\n"
      ],
      "metadata": {
        "colab": {
          "base_uri": "https://localhost:8080/"
        },
        "id": "IxHh9ll-x9DC",
        "outputId": "05a7271a-7917-46b9-c855-459385d1dc06"
      },
      "execution_count": 8,
      "outputs": [
        {
          "output_type": "stream",
          "name": "stdout",
          "text": [
            "Enter a number: wer\n",
            "That's not a valid number!\n",
            "\n",
            "Attempted Input\n",
            "\n",
            "Enter a number: 9\n",
            "Your input is 9.\n",
            "\n",
            "Attempted Input\n",
            "\n"
          ]
        }
      ]
    },
    {
      "cell_type": "markdown",
      "source": [
        "**Practice**\n",
        "\n",
        "The party_planner function below takes as input a number of party people and cookies and figures out how many cookies each person gets at the party, assuming equitable distribution of cookies. Then, it returns that number along with how many cookies will be left over.\n",
        "\n",
        "Right now, calling the function with an input of 0 people will cause an error, because it creates a **ZeroDivisionError exception**. Edit the party_planner function to handle this invalid input. If it runs into this exception, it should print a warning message to the user and request they input a different number of people.\n",
        "\n",
        "After you've edited the function, try running the file again and make sure it does what you intended. Try it with several different input values, including 0 and other values for the number of people.\n",
        "\n"
      ],
      "metadata": {
        "id": "wUxImwW236qj"
      }
    },
    {
      "cell_type": "code",
      "source": [
        "def party_planner(cookies, people):\n",
        "  num_each = None\n",
        "  leftovers = None\n",
        "\n",
        "  try:\n",
        "    num_each = cookies // people\n",
        "    leftovers = cookies % people\n",
        "\n",
        "  except ZeroDivisionError:\n",
        "    print('Input should be more than 0.')\n",
        "\n",
        "  return num_each, leftovers\n"
      ],
      "metadata": {
        "id": "vhVfv8cc0gOG"
      },
      "execution_count": 9,
      "outputs": []
    },
    {
      "cell_type": "code",
      "source": [
        "lets_party = 'y'\n",
        "while lets_party == 'y':\n",
        "  \n",
        "  cookies = int(input('How many cookies are you gonna bake?  '))\n",
        "  people = int(input('How many people are you gonna invite?  '))\n",
        "  \n",
        "  num_each, leftovers = party_planner(cookies, people)\n",
        "\n",
        "  if num_each: # if num_each is not None\n",
        "\n",
        "    print('\\nWe are gonna bake {} cookies for {} people. \\n Therefore, each person will have {} cookies \\nand there will be {} leftovers.'\n",
        "          .format(cookies, people, num_each, leftovers))\n",
        "\n",
        "  lets_party = input('\\nDo you still want to have a party? (y/n) ')"
      ],
      "metadata": {
        "colab": {
          "base_uri": "https://localhost:8080/"
        },
        "id": "YDqFBt2O4luJ",
        "outputId": "9c7ea07d-e51c-4f1f-8e55-0015c9f55371"
      },
      "execution_count": 11,
      "outputs": [
        {
          "name": "stdout",
          "output_type": "stream",
          "text": [
            "How many cookies are you gonna bake?  342\n",
            "How many people are you gonna invite?  0\n",
            "Input should be more than 0.\n",
            "\n",
            "Do you still want to have a party? (y/n) y\n",
            "How many cookies are you gonna bake?  305\n",
            "How many people are you gonna invite?  40\n",
            "\n",
            "We are gonna bake 305 cookies for 40 people. \n",
            " Therefore, each person will have 7 cookies \n",
            "and there will be 25 leftovers.\n",
            "\n",
            "Do you still want to have a party? (y/n) n\n"
          ]
        }
      ]
    },
    {
      "cell_type": "markdown",
      "source": [
        "ZeroDivisionError occurs when the denominator is 0."
      ],
      "metadata": {
        "id": "4cHz3_Sk7sCk"
      }
    },
    {
      "cell_type": "code",
      "source": [
        "# if statement is evaluated as 0\n",
        "cookies_each = 0\n",
        "if cookies_each:\n",
        "  print('Each person will have {} cookies.'.format(cookies_each))"
      ],
      "metadata": {
        "id": "CiiLQ5KC5re5"
      },
      "execution_count": 12,
      "outputs": []
    },
    {
      "cell_type": "markdown",
      "source": [
        "'if statement is evaluated as 0' means **evaluated as False**, so the code block won't be run."
      ],
      "metadata": {
        "id": "5SKzdZ6a8Ou9"
      }
    },
    {
      "cell_type": "code",
      "source": [
        "# if statement is evaluated as 0\n",
        "cookies_each = -10\n",
        "if cookies_each:\n",
        "  print('Each person will have {} cookies.'.format(cookies_each))"
      ],
      "metadata": {
        "colab": {
          "base_uri": "https://localhost:8080/"
        },
        "id": "XG9TEGkQ8m4z",
        "outputId": "e2d73f20-273a-4f99-c826-e30500c049e1"
      },
      "execution_count": 13,
      "outputs": [
        {
          "output_type": "stream",
          "name": "stdout",
          "text": [
            "Each person will have -10 cookies.\n"
          ]
        }
      ]
    },
    {
      "cell_type": "markdown",
      "source": [
        "## Accessing Error Messages\n",
        "\n",
        "\n",
        "\n",
        "```\n",
        "try:\n",
        "   [code]\n",
        "except ZeroDivisionError as e:\n",
        "   [code]\n",
        "   print('ZeroDivisionError occurred: {}.'.format(e))\n",
        "```\n",
        "\n"
      ],
      "metadata": {
        "id": "atbFhGHn8sxr"
      }
    },
    {
      "cell_type": "markdown",
      "source": [
        "If you don't have a specific error you're handling, you can still access the message like this:"
      ],
      "metadata": {
        "id": "veBMiawO9jQK"
      }
    },
    {
      "cell_type": "code",
      "source": [
        "# access its error message\n",
        "a = 'hi'\n",
        "b = 5\n",
        "try:\n",
        "  print(a + b)\n",
        "except Exception as e:\n",
        "  print('Exception occurred: {}.'.format(e))"
      ],
      "metadata": {
        "colab": {
          "base_uri": "https://localhost:8080/"
        },
        "id": "tVKD3tGk8oAK",
        "outputId": "1ec33e69-7cb8-4226-dfde-c33debe4821c"
      },
      "execution_count": 14,
      "outputs": [
        {
          "output_type": "stream",
          "name": "stdout",
          "text": [
            "Exception occurred: can only concatenate str (not \"int\") to str.\n"
          ]
        }
      ]
    },
    {
      "cell_type": "markdown",
      "source": [
        "# Reading and Writing Files\n",
        "\n",
        "+ **open** function: returns **file object**, which Python interacts with the file itself.\n",
        "+ default mode is **'r' (read)**.\n",
        "> 'w': when writing content of a file / for exisiting file, [**caution**] it can overwrite the existing content.\n",
        "+ always close file object.\n",
        "> opening too many file objects makes you run out of file handlers and won't be able to open any new files."
      ],
      "metadata": {
        "id": "iBc7Kg0pdNce"
      }
    },
    {
      "cell_type": "code",
      "source": [
        "# write a new file\n",
        "f = open('file.txt', 'w')\n",
        "f.write('Hello. How are you today?')\n",
        "f.close() # free up any system resources taken by the file"
      ],
      "metadata": {
        "id": "Zdr8mRrydZpb"
      },
      "execution_count": 15,
      "outputs": []
    },
    {
      "cell_type": "code",
      "source": [
        "# open the file we just created\n",
        "f = open('file.txt')\n",
        "f.read()\n",
        "f.close()"
      ],
      "metadata": {
        "id": "GUmzYFXEei3X"
      },
      "execution_count": 16,
      "outputs": []
    },
    {
      "cell_type": "code",
      "source": [
        "# check if it's closed\n",
        "f.closed"
      ],
      "metadata": {
        "colab": {
          "base_uri": "https://localhost:8080/"
        },
        "id": "n4ugd8BjfArZ",
        "outputId": "fce30ece-ddec-4008-911f-d519be0162ad"
      },
      "execution_count": 17,
      "outputs": [
        {
          "output_type": "execute_result",
          "data": {
            "text/plain": [
              "True"
            ]
          },
          "metadata": {},
          "execution_count": 17
        }
      ]
    },
    {
      "cell_type": "code",
      "source": [
        "# save the file content in a variable \n",
        "# and close the file object\n",
        "f = open('file.txt', 'r')\n",
        "content = f.read()\n",
        "f.close()\n",
        "\n",
        "# view content\n",
        "content"
      ],
      "metadata": {
        "colab": {
          "base_uri": "https://localhost:8080/",
          "height": 36
        },
        "id": "su8BJ5LafDqd",
        "outputId": "8f9d2684-ae17-4e60-94ed-7862fa7d342f"
      },
      "execution_count": 18,
      "outputs": [
        {
          "output_type": "execute_result",
          "data": {
            "text/plain": [
              "'Hello. How are you today?'"
            ],
            "application/vnd.google.colaboratory.intrinsic+json": {
              "type": "string"
            }
          },
          "metadata": {},
          "execution_count": 18
        }
      ]
    },
    {
      "cell_type": "code",
      "source": [
        "# let's add the content to the file\n",
        "# without overwriting the exisiting content\n",
        "f = open('file.txt', 'a')\n",
        "f.write('\\nI\\'m good. What about you?')\n",
        "f.close()"
      ],
      "metadata": {
        "id": "zgRUY6W6fZbL"
      },
      "execution_count": 19,
      "outputs": []
    },
    {
      "cell_type": "code",
      "source": [
        "# read again\n",
        "f = open('file.txt')\n",
        "print(f.read())\n",
        "f.close()"
      ],
      "metadata": {
        "colab": {
          "base_uri": "https://localhost:8080/"
        },
        "id": "Tb7d0cB8f6T4",
        "outputId": "2dd553dc-a723-4ef0-bf11-ff1428052063"
      },
      "execution_count": 20,
      "outputs": [
        {
          "output_type": "stream",
          "name": "stdout",
          "text": [
            "Hello. How are you today?\n",
            "I'm good. What about you?\n"
          ]
        }
      ]
    },
    {
      "cell_type": "code",
      "source": [
        "# with keyword allows you to auto close the file\n",
        "with open('file.txt') as f:\n",
        "  content = f.read()\n",
        "\n",
        "# you can access 'f' variable only inside the indented block."
      ],
      "metadata": {
        "id": "BvUkCjBSg_2I"
      },
      "execution_count": 21,
      "outputs": []
    },
    {
      "cell_type": "code",
      "source": [
        "# you can access the file content outside the block of code\n",
        "# as we assign it to a variable, content\n",
        "print(content)"
      ],
      "metadata": {
        "colab": {
          "base_uri": "https://localhost:8080/"
        },
        "id": "SBoBICLbigE3",
        "outputId": "a559e497-a564-4e56-efb6-3c220192a74d"
      },
      "execution_count": 22,
      "outputs": [
        {
          "output_type": "stream",
          "name": "stdout",
          "text": [
            "Hello. How are you today?\n",
            "I'm good. What about you?\n"
          ]
        }
      ]
    },
    {
      "cell_type": "markdown",
      "source": [
        "**read(number)**: reads in the file a little at a time.\n",
        "\n",
        "> **read()**\n",
        "<br> This defaults to reading all the remainder of the file from its current position - the whole file. "
      ],
      "metadata": {
        "id": "H4vxaTp4uaNi"
      }
    },
    {
      "cell_type": "code",
      "source": [
        "with open('file.txt', 'r') as f:\n",
        "  print(f.read(2))\n",
        "  print(f.read(4))\n",
        "  print(f.read(2))\n",
        "  print(f.read()) # print the rest\n",
        "  "
      ],
      "metadata": {
        "colab": {
          "base_uri": "https://localhost:8080/"
        },
        "id": "xpxk2-1fuWwH",
        "outputId": "26211393-4231-4dfb-8ca5-f5783c81e7b8"
      },
      "execution_count": 23,
      "outputs": [
        {
          "output_type": "stream",
          "name": "stdout",
          "text": [
            "He\n",
            "llo.\n",
            " H\n",
            "ow are you today?\n",
            "I'm good. What about you?\n"
          ]
        }
      ]
    },
    {
      "cell_type": "markdown",
      "source": [
        "**readlines()**: reads a single line for text with newline character(\\n)"
      ],
      "metadata": {
        "id": "O2XfD1y8u9To"
      }
    },
    {
      "cell_type": "code",
      "source": [
        "with open('file.txt', 'r') as f:\n",
        "  print(f.readline())\n",
        "  print(f.readline())"
      ],
      "metadata": {
        "colab": {
          "base_uri": "https://localhost:8080/"
        },
        "id": "hhXiiGwzu80p",
        "outputId": "57263307-7e6c-46fa-d89d-f75e1e0a6e64"
      },
      "execution_count": 24,
      "outputs": [
        {
          "output_type": "stream",
          "name": "stdout",
          "text": [
            "Hello. How are you today?\n",
            "\n",
            "I'm good. What about you?\n"
          ]
        }
      ]
    },
    {
      "cell_type": "markdown",
      "source": [
        "Python will loop over the lines of a file using the syntax below.\n",
        "```\n",
        "for line in f:\n",
        "```\n"
      ],
      "metadata": {
        "id": "tC7Thxhlkxe9"
      }
    },
    {
      "cell_type": "code",
      "source": [
        "# let's add the file content line by line into a list\n",
        "sentences = []\n",
        "with open('file.txt') as f:\n",
        "  for line in f:\n",
        "    sentences.append(line)\n",
        "\n",
        "sentences"
      ],
      "metadata": {
        "colab": {
          "base_uri": "https://localhost:8080/"
        },
        "id": "y9BlVhnui6NL",
        "outputId": "fbfba1c8-49b7-441e-f253-eb68934cc2dc"
      },
      "execution_count": 25,
      "outputs": [
        {
          "output_type": "execute_result",
          "data": {
            "text/plain": [
              "['Hello. How are you today?\\n', \"I'm good. What about you?\"]"
            ]
          },
          "metadata": {},
          "execution_count": 25
        }
      ]
    },
    {
      "cell_type": "code",
      "source": [
        "# \\n is a newline character\n",
        "# let's remove them using strip method\n",
        "\n",
        "sentences = []\n",
        "with open('file.txt') as f:\n",
        "  for line in f:\n",
        "    sentences.append(line.strip())\n",
        "\n",
        "sentences"
      ],
      "metadata": {
        "colab": {
          "base_uri": "https://localhost:8080/"
        },
        "id": "H9VeBmnIkvrW",
        "outputId": "f8db24ad-7a23-4635-dfde-ff3c86fca1fb"
      },
      "execution_count": 26,
      "outputs": [
        {
          "output_type": "execute_result",
          "data": {
            "text/plain": [
              "['Hello. How are you today?', \"I'm good. What about you?\"]"
            ]
          },
          "metadata": {},
          "execution_count": 26
        }
      ]
    },
    {
      "cell_type": "markdown",
      "source": [
        "# [Must Review] Importing Local Scripts\n",
        "\n",
        "You can call the function written on the different python file. \n",
        "\n"
      ],
      "metadata": {
        "id": "BPVHdsNmzHaT"
      }
    },
    {
      "cell_type": "code",
      "source": [
        "with open('useful_functions.py', 'w') as f:\n",
        "  f.write('print(2+3)')"
      ],
      "metadata": {
        "id": "m8RSEnnxliPQ"
      },
      "execution_count": 27,
      "outputs": []
    },
    {
      "cell_type": "code",
      "source": [
        "# the script to import is in the same directory\n",
        "import useful_functions"
      ],
      "metadata": {
        "id": "Qsjh11LGzi8t",
        "colab": {
          "base_uri": "https://localhost:8080/"
        },
        "outputId": "36357fe0-e2fd-451f-911d-543892b81bbd"
      },
      "execution_count": 28,
      "outputs": [
        {
          "output_type": "stream",
          "name": "stdout",
          "text": [
            "5\n"
          ]
        }
      ]
    },
    {
      "cell_type": "markdown",
      "source": [
        "**More complicated cases**\n",
        "\n",
        "1. create the script(or module) with the following codes\n",
        "*module : just Python file that contains definitions and statements*\n",
        "\n",
        "\n",
        "```\n",
        "# define functions\n",
        "def mean(num_list):\n",
        "    return sum(num_list) / len(num_list)\n",
        "\n",
        "def add_five(num_list):\n",
        "    return [n+5 for n in num_list]\n",
        "\n",
        "# test the function\n",
        "if __name__ == '__main__':\n",
        "   print('testing mean fucntion')\n",
        "   n_list = [3, 1, 3, 3]\n",
        "   assert mean(n_list) == 2.5\n",
        "\n",
        "   print('testing add_five function')\n",
        "   assert add_five(n_list) == [8, 6, 8, 8]\n",
        "\n",
        "   print('All tests passed!')\n",
        "```\n",
        "> **if \\_\\_name\\_\\_ == '\\_\\_main\\_\\_'** in the imported file\n",
        "<br> Python recognizes this module as the main program, and sets the \\_\\_name\\_\\_ variable for this module to the string \"\\_\\_main\\_\\_\"\n",
        "\n",
        "alternative:\n",
        "\n",
        "```\n",
        "# useful_functions.py\n",
        "\n",
        "def mean(num_list):\n",
        "    return sum(num_list) / len(num_list)\n",
        "\n",
        "def add_five(num_list):\n",
        "    return [n + 5 for n in num_list]\n",
        "\n",
        "def main():\n",
        "    print(\"Testing mean function\")\n",
        "    n_list = [34, 44, 23, 46, 12, 24]\n",
        "    correct_mean = 30.5\n",
        "    assert(mean(n_list) == correct_mean)\n",
        "\n",
        "    print(\"Testing add_five function\")\n",
        "    correct_list = [39, 49, 28, 51, 17, 29]\n",
        "    assert(add_five(n_list) == correct_list)\n",
        "\n",
        "    print(\"All tests passed!\")\n",
        "\n",
        "if __name__ == '__main__':\n",
        "    main()\n",
        "```\n",
        "\n",
        "\n",
        "\n",
        "2. create the script with the following codes.\n",
        "\n",
        "\n",
        "```\n",
        "# create a module object\n",
        "import functions as func \n",
        "\n",
        "numbers = [20, 30, 40, 24]\n",
        "\n",
        "print(func.mean(numbers))\n",
        "print(func.add_five(numbers))\n",
        "\n",
        "print(__name__) # output is __main__\n",
        "print(func.__name__) # output is functions\n",
        "\n",
        "\n",
        "```\n",
        "\n"
      ],
      "metadata": {
        "id": "A1onBSyNC3kz"
      }
    },
    {
      "cell_type": "markdown",
      "source": [
        "**[Note]**\n",
        "+ It's the standard convention for **import** statements to be written at the top of a Python script, each one on a separate line.\n",
        "\n",
        "+ access objects from an imported module, you need to use dot notation. See below.\n",
        "\n",
        "[functions.py]\n",
        "```\n",
        "x = 2 + 3\n",
        "```\n",
        "\n",
        "[work.py]\n",
        "\n",
        "```\n",
        "import functions as f\n",
        "print(f.x)\n",
        "```"
      ],
      "metadata": {
        "id": "Ko8gWCHZEQwd"
      }
    },
    {
      "cell_type": "markdown",
      "source": [
        "# Standard Library\n",
        "\n",
        "The built-in modules come with Python.\n",
        "<br>\n",
        "Check out the modules in the following website.\n",
        "https://docs.python.org/3/library/"
      ],
      "metadata": {
        "id": "MkBpUZ3pIeW6"
      }
    },
    {
      "cell_type": "code",
      "source": [
        "import math"
      ],
      "metadata": {
        "id": "53OZVvaQEQU5"
      },
      "execution_count": 29,
      "outputs": []
    },
    {
      "cell_type": "code",
      "source": [
        "# print e to the power of 3 using the math module\n",
        "print(math.exp(3))"
      ],
      "metadata": {
        "colab": {
          "base_uri": "https://localhost:8080/"
        },
        "id": "o45D4NxT1uuv",
        "outputId": "66cf48d0-a92e-4eea-a2c4-0ec829ff24d0"
      },
      "execution_count": 30,
      "outputs": [
        {
          "output_type": "stream",
          "name": "stdout",
          "text": [
            "20.085536923187668\n"
          ]
        }
      ]
    },
    {
      "cell_type": "markdown",
      "source": [
        "# Importing Modules"
      ],
      "metadata": {
        "id": "X4Cfo7ReNOsH"
      }
    },
    {
      "cell_type": "code",
      "source": [
        "# import DataFrame class from pandas library \n",
        "# rename it as DF\n",
        "from pandas import DataFrame as DF"
      ],
      "metadata": {
        "id": "GP3XZM-BInt5"
      },
      "execution_count": 31,
      "outputs": []
    },
    {
      "cell_type": "code",
      "source": [
        "DF({'a':[1,2], 'b':[3,4]})"
      ],
      "metadata": {
        "colab": {
          "base_uri": "https://localhost:8080/",
          "height": 112
        },
        "id": "saJavoXuNpzk",
        "outputId": "6aacc973-59eb-4c0c-95bd-88e4e3375e00"
      },
      "execution_count": 32,
      "outputs": [
        {
          "output_type": "execute_result",
          "data": {
            "text/plain": [
              "   a  b\n",
              "0  1  3\n",
              "1  2  4"
            ],
            "text/html": [
              "\n",
              "  <div id=\"df-8bb74563-0f8b-491e-a807-3b733351d3c0\">\n",
              "    <div class=\"colab-df-container\">\n",
              "      <div>\n",
              "<style scoped>\n",
              "    .dataframe tbody tr th:only-of-type {\n",
              "        vertical-align: middle;\n",
              "    }\n",
              "\n",
              "    .dataframe tbody tr th {\n",
              "        vertical-align: top;\n",
              "    }\n",
              "\n",
              "    .dataframe thead th {\n",
              "        text-align: right;\n",
              "    }\n",
              "</style>\n",
              "<table border=\"1\" class=\"dataframe\">\n",
              "  <thead>\n",
              "    <tr style=\"text-align: right;\">\n",
              "      <th></th>\n",
              "      <th>a</th>\n",
              "      <th>b</th>\n",
              "    </tr>\n",
              "  </thead>\n",
              "  <tbody>\n",
              "    <tr>\n",
              "      <th>0</th>\n",
              "      <td>1</td>\n",
              "      <td>3</td>\n",
              "    </tr>\n",
              "    <tr>\n",
              "      <th>1</th>\n",
              "      <td>2</td>\n",
              "      <td>4</td>\n",
              "    </tr>\n",
              "  </tbody>\n",
              "</table>\n",
              "</div>\n",
              "      <button class=\"colab-df-convert\" onclick=\"convertToInteractive('df-8bb74563-0f8b-491e-a807-3b733351d3c0')\"\n",
              "              title=\"Convert this dataframe to an interactive table.\"\n",
              "              style=\"display:none;\">\n",
              "        \n",
              "  <svg xmlns=\"http://www.w3.org/2000/svg\" height=\"24px\"viewBox=\"0 0 24 24\"\n",
              "       width=\"24px\">\n",
              "    <path d=\"M0 0h24v24H0V0z\" fill=\"none\"/>\n",
              "    <path d=\"M18.56 5.44l.94 2.06.94-2.06 2.06-.94-2.06-.94-.94-2.06-.94 2.06-2.06.94zm-11 1L8.5 8.5l.94-2.06 2.06-.94-2.06-.94L8.5 2.5l-.94 2.06-2.06.94zm10 10l.94 2.06.94-2.06 2.06-.94-2.06-.94-.94-2.06-.94 2.06-2.06.94z\"/><path d=\"M17.41 7.96l-1.37-1.37c-.4-.4-.92-.59-1.43-.59-.52 0-1.04.2-1.43.59L10.3 9.45l-7.72 7.72c-.78.78-.78 2.05 0 2.83L4 21.41c.39.39.9.59 1.41.59.51 0 1.02-.2 1.41-.59l7.78-7.78 2.81-2.81c.8-.78.8-2.07 0-2.86zM5.41 20L4 18.59l7.72-7.72 1.47 1.35L5.41 20z\"/>\n",
              "  </svg>\n",
              "      </button>\n",
              "      \n",
              "  <style>\n",
              "    .colab-df-container {\n",
              "      display:flex;\n",
              "      flex-wrap:wrap;\n",
              "      gap: 12px;\n",
              "    }\n",
              "\n",
              "    .colab-df-convert {\n",
              "      background-color: #E8F0FE;\n",
              "      border: none;\n",
              "      border-radius: 50%;\n",
              "      cursor: pointer;\n",
              "      display: none;\n",
              "      fill: #1967D2;\n",
              "      height: 32px;\n",
              "      padding: 0 0 0 0;\n",
              "      width: 32px;\n",
              "    }\n",
              "\n",
              "    .colab-df-convert:hover {\n",
              "      background-color: #E2EBFA;\n",
              "      box-shadow: 0px 1px 2px rgba(60, 64, 67, 0.3), 0px 1px 3px 1px rgba(60, 64, 67, 0.15);\n",
              "      fill: #174EA6;\n",
              "    }\n",
              "\n",
              "    [theme=dark] .colab-df-convert {\n",
              "      background-color: #3B4455;\n",
              "      fill: #D2E3FC;\n",
              "    }\n",
              "\n",
              "    [theme=dark] .colab-df-convert:hover {\n",
              "      background-color: #434B5C;\n",
              "      box-shadow: 0px 1px 3px 1px rgba(0, 0, 0, 0.15);\n",
              "      filter: drop-shadow(0px 1px 2px rgba(0, 0, 0, 0.3));\n",
              "      fill: #FFFFFF;\n",
              "    }\n",
              "  </style>\n",
              "\n",
              "      <script>\n",
              "        const buttonEl =\n",
              "          document.querySelector('#df-8bb74563-0f8b-491e-a807-3b733351d3c0 button.colab-df-convert');\n",
              "        buttonEl.style.display =\n",
              "          google.colab.kernel.accessAllowed ? 'block' : 'none';\n",
              "\n",
              "        async function convertToInteractive(key) {\n",
              "          const element = document.querySelector('#df-8bb74563-0f8b-491e-a807-3b733351d3c0');\n",
              "          const dataTable =\n",
              "            await google.colab.kernel.invokeFunction('convertToInteractive',\n",
              "                                                     [key], {});\n",
              "          if (!dataTable) return;\n",
              "\n",
              "          const docLinkHtml = 'Like what you see? Visit the ' +\n",
              "            '<a target=\"_blank\" href=https://colab.research.google.com/notebooks/data_table.ipynb>data table notebook</a>'\n",
              "            + ' to learn more about interactive tables.';\n",
              "          element.innerHTML = '';\n",
              "          dataTable['output_type'] = 'display_data';\n",
              "          await google.colab.output.renderOutput(dataTable, element);\n",
              "          const docLink = document.createElement('div');\n",
              "          docLink.innerHTML = docLinkHtml;\n",
              "          element.appendChild(docLink);\n",
              "        }\n",
              "      </script>\n",
              "    </div>\n",
              "  </div>\n",
              "  "
            ]
          },
          "metadata": {},
          "execution_count": 32
        }
      ]
    },
    {
      "cell_type": "code",
      "source": [
        "# import multiple objects \n",
        "\n",
        "from numpy import random, argmax"
      ],
      "metadata": {
        "id": "O9ns72dFNt6-"
      },
      "execution_count": 33,
      "outputs": []
    },
    {
      "cell_type": "code",
      "source": [
        "random.randn(2, 10)"
      ],
      "metadata": {
        "colab": {
          "base_uri": "https://localhost:8080/"
        },
        "id": "-9BDmvk0OVIT",
        "outputId": "4824a4d9-d17c-4996-8a3e-a3332b87e065"
      },
      "execution_count": 34,
      "outputs": [
        {
          "output_type": "execute_result",
          "data": {
            "text/plain": [
              "array([[ 0.0046481 , -0.89629978,  0.10765241,  0.77202542,  0.93603207,\n",
              "        -0.16021681,  1.32287587,  0.43194845,  0.61539636, -0.5683077 ],\n",
              "       [-0.9349205 ,  0.43748651, -0.39807722, -0.45687917, -0.97501585,\n",
              "         0.46770025, -0.09584216,  0.08952802,  0.3750035 , -0.6144968 ]])"
            ]
          },
          "metadata": {},
          "execution_count": 34
        }
      ]
    },
    {
      "cell_type": "code",
      "source": [
        "argmax(([2,3,10]))"
      ],
      "metadata": {
        "colab": {
          "base_uri": "https://localhost:8080/"
        },
        "id": "UdVP7JYvOZbc",
        "outputId": "e17bc37d-5b72-4626-85fe-f2832848bf6a"
      },
      "execution_count": 35,
      "outputs": [
        {
          "output_type": "execute_result",
          "data": {
            "text/plain": [
              "2"
            ]
          },
          "metadata": {},
          "execution_count": 35
        }
      ]
    },
    {
      "cell_type": "markdown",
      "source": [
        "**Do not do this.**\n",
        "\n",
        "\n",
        "```\n",
        "from pandas import *\n",
        "```\n",
        "\n",
        "This code will allows you to call pandas objects without pandas with dot notation. It can overwrite or be overwritten by other names you are using in your program. "
      ],
      "metadata": {
        "id": "wy9vvngoOszt"
      }
    },
    {
      "cell_type": "markdown",
      "source": [
        "In order to manage the code better, modules in Python Standard Library are split down into sub-modules that are contained within a package.\n",
        "\n",
        "<br> \n",
        "**Package?**\n",
        "package = module that contains sub-modules\n",
        "\n",
        "\n",
        "\n",
        "```\n",
        "import package_name.submodule_name\n",
        "```\n",
        "\n",
        "Example\n",
        "\n",
        "```\n",
        "os.path \n",
        "# os module has the sub-module, os.path \n",
        "```"
      ],
      "metadata": {
        "id": "_69pYdICPl5_"
      }
    },
    {
      "cell_type": "code",
      "source": [
        "import os.path # this kind of import is only available for sub-module, not functions or objects"
      ],
      "metadata": {
        "id": "mJy6q2xLOpPn"
      },
      "execution_count": 36,
      "outputs": []
    },
    {
      "cell_type": "code",
      "source": [
        "os.path.isdir('/content')"
      ],
      "metadata": {
        "colab": {
          "base_uri": "https://localhost:8080/"
        },
        "id": "iARO7SifQU-8",
        "outputId": "666139c9-13cd-4c13-e8d6-da58145bff6d"
      },
      "execution_count": 37,
      "outputs": [
        {
          "output_type": "execute_result",
          "data": {
            "text/plain": [
              "True"
            ]
          },
          "metadata": {},
          "execution_count": 37
        }
      ]
    },
    {
      "cell_type": "markdown",
      "source": [
        "**Confusing Case**\n",
        "The class you want to import has the same name as the module\n",
        "\n",
        "\n",
        "\n",
        "```\n",
        "# import the class 'datetime' from the module 'datetime'\n",
        "from datetime import datetime\n",
        "```\n",
        "\n",
        "After running this code, 'datetime' will only refer to the class, not the module.\n"
      ],
      "metadata": {
        "id": "cZg70NIyQzoU"
      }
    },
    {
      "cell_type": "markdown",
      "source": [
        "# Third-Party Libraries\n",
        "\n",
        "You can install them using pip, a package manager that is included in Python3. (Alternative: Anaconda(specialized for data science))\n",
        "\n",
        "```\n",
        "$ pip install package_name\n",
        "```\n",
        "\n",
        "**Using a requirements.txt file**\n",
        "\n",
        "list a project's dependencies in a file called 'requirements.txt'\n",
        "\n",
        "[requirements.txt]\n",
        "```\n",
        "beautifulsoup4==4.5.1\n",
        "bs4==0.0.1\n",
        "pytz==2016.7\n",
        "requests==2.11.1\n",
        "```\n",
        "\n",
        "\n",
        "Install all of them by passing the following code.\n",
        "```\n",
        "$ pip install -r requirements.txt\n",
        "```\n",
        "\n",
        "\n",
        "\n",
        "\n"
      ],
      "metadata": {
        "id": "I9Z8wVMLkx5I"
      }
    },
    {
      "cell_type": "markdown",
      "source": [
        "# Hierarchy of Online Resources\n",
        "While there are many online resources about programming, not all of the them are created equal. This list of resources is in approximate order of reliability.\n",
        "\n",
        "1. The Python Tutorial - This section of the official documentation surveys Python's syntax and standard library. It uses examples, and is written using less technical language than the main documentation. Make sure you're reading the Python 3 version of the docs!\n",
        "2. The Python Language and Library References - The Language Reference and Library Reference are more technical than the tutorial, but they are the definitive sources of truth. As you become increasingly acquainted with Python you should use these resources more and more.\n",
        "3. Third-Party Library Documentation - Third-party libraries publish their documentation on their own websites, and often times at https://readthedocs.org/. You can judge the quality of a third-party library by the quality of its documentation. If the developers haven't found time to write good docs, they probably haven't found the time to polish their library either.\n",
        "4. The websites and blogs of prominent experts - The previous resources are primary sources, meaning that they are documentation from the same people who wrote the code being documented. Primary sources are the most reliable. Secondary sources are also extremely valuable. The difficulty with secondary sources is determining the credibility of the source. The websites of authors like Doug Hellmann and developers like Eli Bendersky are excellent. The blog of an unknown author might be excellent, or it might be rubbish.\n",
        "5. StackOverflow - This question and answer site has a good amount of traffic, so it's likely that someone has asked (and someone has answered) a related question before! However, answers are provided by volunteers and vary in quality. Always understand solutions before putting them into your program. One line answers without any explanation are dubious. This is a good place to find out more about your question or discover alternative search terms.\n",
        "6. Bug Trackers - Sometimes you'll encounter a problem so rare, or so new, that no one has addressed it on StackOverflow. You might find a reference to your error in a bug report on GitHub for instance. These bug reports can be helpful, but you'll probably have to do some original engineering work to solve the problem.\n",
        "7. Random Web Forums - Sometimes your search yields references to forums that haven't been active since 2004, or some similarly ancient time. If these are the only resources that address your problem, you should rethink how you're approaching your solution."
      ],
      "metadata": {
        "id": "PzxVNLM9oBLb"
      }
    }
  ]
}